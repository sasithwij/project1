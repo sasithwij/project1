{
 "cells": [
  {
   "cell_type": "code",
   "execution_count": 1,
   "metadata": {},
   "outputs": [
    {
     "name": "stderr",
     "output_type": "stream",
     "text": [
      "Enabling notebook extension jupyter-js-widgets/extension...\n",
      "      - Validating: ok\n"
     ]
    },
    {
     "name": "stdout",
     "output_type": "stream",
     "text": [
      "Requirement already satisfied: gmaps in c:\\users\\sasit\\anaconda3\\envs\\pythondata1\\lib\\site-packages (0.9.0)\n",
      "Requirement already satisfied: ipywidgets>=7.0.0 in c:\\users\\sasit\\anaconda3\\envs\\pythondata1\\lib\\site-packages (from gmaps) (7.5.1)\n",
      "Requirement already satisfied: six in c:\\users\\sasit\\anaconda3\\envs\\pythondata1\\lib\\site-packages (from gmaps) (1.15.0)\n",
      "Requirement already satisfied: ipython>=5.3.0 in c:\\users\\sasit\\anaconda3\\envs\\pythondata1\\lib\\site-packages (from gmaps) (7.16.1)\n",
      "Requirement already satisfied: geojson>=2.0.0 in c:\\users\\sasit\\anaconda3\\envs\\pythondata1\\lib\\site-packages (from gmaps) (2.5.0)\n",
      "Requirement already satisfied: traitlets>=4.3.0 in c:\\users\\sasit\\anaconda3\\envs\\pythondata1\\lib\\site-packages (from gmaps) (4.3.3)\n",
      "Requirement already satisfied: nbformat>=4.2.0 in c:\\users\\sasit\\anaconda3\\envs\\pythondata1\\lib\\site-packages (from ipywidgets>=7.0.0->gmaps) (5.0.7)\n",
      "Requirement already satisfied: ipykernel>=4.5.1 in c:\\users\\sasit\\anaconda3\\envs\\pythondata1\\lib\\site-packages (from ipywidgets>=7.0.0->gmaps) (5.3.2)\n",
      "Requirement already satisfied: widgetsnbextension~=3.5.0 in c:\\users\\sasit\\anaconda3\\envs\\pythondata1\\lib\\site-packages (from ipywidgets>=7.0.0->gmaps) (3.5.1)\n",
      "Requirement already satisfied: pickleshare in c:\\users\\sasit\\anaconda3\\envs\\pythondata1\\lib\\site-packages (from ipython>=5.3.0->gmaps) (0.7.5)\n",
      "Requirement already satisfied: prompt-toolkit!=3.0.0,!=3.0.1,<3.1.0,>=2.0.0 in c:\\users\\sasit\\anaconda3\\envs\\pythondata1\\lib\\site-packages (from ipython>=5.3.0->gmaps) (3.0.5)\n",
      "Requirement already satisfied: backcall in c:\\users\\sasit\\anaconda3\\envs\\pythondata1\\lib\\site-packages (from ipython>=5.3.0->gmaps) (0.2.0)\n",
      "Requirement already satisfied: pygments in c:\\users\\sasit\\anaconda3\\envs\\pythondata1\\lib\\site-packages (from ipython>=5.3.0->gmaps) (2.6.1)\n",
      "Requirement already satisfied: colorama; sys_platform == \"win32\" in c:\\users\\sasit\\anaconda3\\envs\\pythondata1\\lib\\site-packages (from ipython>=5.3.0->gmaps) (0.4.3)\n",
      "Requirement already satisfied: decorator in c:\\users\\sasit\\anaconda3\\envs\\pythondata1\\lib\\site-packages (from ipython>=5.3.0->gmaps) (4.4.2)\n",
      "Requirement already satisfied: jedi>=0.10 in c:\\users\\sasit\\anaconda3\\envs\\pythondata1\\lib\\site-packages (from ipython>=5.3.0->gmaps) (0.17.1)\n",
      "Requirement already satisfied: setuptools>=18.5 in c:\\users\\sasit\\anaconda3\\envs\\pythondata1\\lib\\site-packages (from ipython>=5.3.0->gmaps) (49.2.0.post20200714)\n",
      "Requirement already satisfied: ipython-genutils in c:\\users\\sasit\\anaconda3\\envs\\pythondata1\\lib\\site-packages (from traitlets>=4.3.0->gmaps) (0.2.0)\n",
      "Requirement already satisfied: jupyter-core in c:\\users\\sasit\\anaconda3\\envs\\pythondata1\\lib\\site-packages (from nbformat>=4.2.0->ipywidgets>=7.0.0->gmaps) (4.6.3)\n",
      "Requirement already satisfied: jsonschema!=2.5.0,>=2.4 in c:\\users\\sasit\\anaconda3\\envs\\pythondata1\\lib\\site-packages (from nbformat>=4.2.0->ipywidgets>=7.0.0->gmaps) (3.2.0)\n",
      "Requirement already satisfied: jupyter-client in c:\\users\\sasit\\anaconda3\\envs\\pythondata1\\lib\\site-packages (from ipykernel>=4.5.1->ipywidgets>=7.0.0->gmaps) (6.1.6)\n",
      "Requirement already satisfied: tornado>=4.2 in c:\\users\\sasit\\anaconda3\\envs\\pythondata1\\lib\\site-packages (from ipykernel>=4.5.1->ipywidgets>=7.0.0->gmaps) (6.0.4)\n",
      "Requirement already satisfied: notebook>=4.4.1 in c:\\users\\sasit\\anaconda3\\envs\\pythondata1\\lib\\site-packages (from widgetsnbextension~=3.5.0->ipywidgets>=7.0.0->gmaps) (6.0.3)\n",
      "Requirement already satisfied: wcwidth in c:\\users\\sasit\\anaconda3\\envs\\pythondata1\\lib\\site-packages (from prompt-toolkit!=3.0.0,!=3.0.1,<3.1.0,>=2.0.0->ipython>=5.3.0->gmaps) (0.2.5)\n",
      "Requirement already satisfied: parso<0.8.0,>=0.7.0 in c:\\users\\sasit\\anaconda3\\envs\\pythondata1\\lib\\site-packages (from jedi>=0.10->ipython>=5.3.0->gmaps) (0.7.0)\n",
      "Requirement already satisfied: pywin32>=1.0; sys_platform == \"win32\" in c:\\users\\sasit\\anaconda3\\envs\\pythondata1\\lib\\site-packages (from jupyter-core->nbformat>=4.2.0->ipywidgets>=7.0.0->gmaps) (227)\n",
      "Requirement already satisfied: pyrsistent>=0.14.0 in c:\\users\\sasit\\anaconda3\\envs\\pythondata1\\lib\\site-packages (from jsonschema!=2.5.0,>=2.4->nbformat>=4.2.0->ipywidgets>=7.0.0->gmaps) (0.16.0)\n",
      "Requirement already satisfied: importlib-metadata; python_version < \"3.8\" in c:\\users\\sasit\\anaconda3\\envs\\pythondata1\\lib\\site-packages (from jsonschema!=2.5.0,>=2.4->nbformat>=4.2.0->ipywidgets>=7.0.0->gmaps) (1.7.0)\n",
      "Requirement already satisfied: attrs>=17.4.0 in c:\\users\\sasit\\anaconda3\\envs\\pythondata1\\lib\\site-packages (from jsonschema!=2.5.0,>=2.4->nbformat>=4.2.0->ipywidgets>=7.0.0->gmaps) (19.3.0)\n",
      "Requirement already satisfied: pyzmq>=13 in c:\\users\\sasit\\anaconda3\\envs\\pythondata1\\lib\\site-packages (from jupyter-client->ipykernel>=4.5.1->ipywidgets>=7.0.0->gmaps) (19.0.1)\n",
      "Requirement already satisfied: python-dateutil>=2.1 in c:\\users\\sasit\\anaconda3\\envs\\pythondata1\\lib\\site-packages (from jupyter-client->ipykernel>=4.5.1->ipywidgets>=7.0.0->gmaps) (2.8.1)\n",
      "Requirement already satisfied: nbconvert in c:\\users\\sasit\\anaconda3\\envs\\pythondata1\\lib\\site-packages (from notebook>=4.4.1->widgetsnbextension~=3.5.0->ipywidgets>=7.0.0->gmaps) (5.6.1)\n",
      "Requirement already satisfied: jinja2 in c:\\users\\sasit\\anaconda3\\envs\\pythondata1\\lib\\site-packages (from notebook>=4.4.1->widgetsnbextension~=3.5.0->ipywidgets>=7.0.0->gmaps) (2.11.2)\n",
      "Requirement already satisfied: Send2Trash in c:\\users\\sasit\\anaconda3\\envs\\pythondata1\\lib\\site-packages (from notebook>=4.4.1->widgetsnbextension~=3.5.0->ipywidgets>=7.0.0->gmaps) (1.5.0)\n",
      "Requirement already satisfied: prometheus-client in c:\\users\\sasit\\anaconda3\\envs\\pythondata1\\lib\\site-packages (from notebook>=4.4.1->widgetsnbextension~=3.5.0->ipywidgets>=7.0.0->gmaps) (0.8.0)\n",
      "Requirement already satisfied: terminado>=0.8.1 in c:\\users\\sasit\\anaconda3\\envs\\pythondata1\\lib\\site-packages (from notebook>=4.4.1->widgetsnbextension~=3.5.0->ipywidgets>=7.0.0->gmaps) (0.8.3)\n",
      "Requirement already satisfied: zipp>=0.5 in c:\\users\\sasit\\anaconda3\\envs\\pythondata1\\lib\\site-packages (from importlib-metadata; python_version < \"3.8\"->jsonschema!=2.5.0,>=2.4->nbformat>=4.2.0->ipywidgets>=7.0.0->gmaps) (3.1.0)\n",
      "Requirement already satisfied: defusedxml in c:\\users\\sasit\\anaconda3\\envs\\pythondata1\\lib\\site-packages (from nbconvert->notebook>=4.4.1->widgetsnbextension~=3.5.0->ipywidgets>=7.0.0->gmaps) (0.6.0)\n",
      "Requirement already satisfied: testpath in c:\\users\\sasit\\anaconda3\\envs\\pythondata1\\lib\\site-packages (from nbconvert->notebook>=4.4.1->widgetsnbextension~=3.5.0->ipywidgets>=7.0.0->gmaps) (0.4.4)\n",
      "Requirement already satisfied: mistune<2,>=0.8.1 in c:\\users\\sasit\\anaconda3\\envs\\pythondata1\\lib\\site-packages (from nbconvert->notebook>=4.4.1->widgetsnbextension~=3.5.0->ipywidgets>=7.0.0->gmaps) (0.8.4)\n",
      "Requirement already satisfied: entrypoints>=0.2.2 in c:\\users\\sasit\\anaconda3\\envs\\pythondata1\\lib\\site-packages (from nbconvert->notebook>=4.4.1->widgetsnbextension~=3.5.0->ipywidgets>=7.0.0->gmaps) (0.3)\n",
      "Requirement already satisfied: bleach in c:\\users\\sasit\\anaconda3\\envs\\pythondata1\\lib\\site-packages (from nbconvert->notebook>=4.4.1->widgetsnbextension~=3.5.0->ipywidgets>=7.0.0->gmaps) (3.1.5)\n",
      "Requirement already satisfied: pandocfilters>=1.4.1 in c:\\users\\sasit\\anaconda3\\envs\\pythondata1\\lib\\site-packages (from nbconvert->notebook>=4.4.1->widgetsnbextension~=3.5.0->ipywidgets>=7.0.0->gmaps) (1.4.2)\n",
      "Requirement already satisfied: MarkupSafe>=0.23 in c:\\users\\sasit\\anaconda3\\envs\\pythondata1\\lib\\site-packages (from jinja2->notebook>=4.4.1->widgetsnbextension~=3.5.0->ipywidgets>=7.0.0->gmaps) (1.1.1)\n",
      "Requirement already satisfied: webencodings in c:\\users\\sasit\\anaconda3\\envs\\pythondata1\\lib\\site-packages (from bleach->nbconvert->notebook>=4.4.1->widgetsnbextension~=3.5.0->ipywidgets>=7.0.0->gmaps) (0.5.1)\n",
      "Requirement already satisfied: packaging in c:\\users\\sasit\\anaconda3\\envs\\pythondata1\\lib\\site-packages (from bleach->nbconvert->notebook>=4.4.1->widgetsnbextension~=3.5.0->ipywidgets>=7.0.0->gmaps) (20.4)\n",
      "Requirement already satisfied: pyparsing>=2.0.2 in c:\\users\\sasit\\anaconda3\\envs\\pythondata1\\lib\\site-packages (from packaging->bleach->nbconvert->notebook>=4.4.1->widgetsnbextension~=3.5.0->ipywidgets>=7.0.0->gmaps) (2.4.7)\n"
     ]
    },
    {
     "name": "stderr",
     "output_type": "stream",
     "text": [
      "Enabling notebook extension jupyter-gmaps/extension...\n",
      "      - Validating: ok\n"
     ]
    }
   ],
   "source": [
    "!jupyter nbextension enable --py --sys-prefix widgetsnbextension\n",
    "!pip install gmaps\n",
    "!jupyter nbextension enable --py --sys-prefix gmaps"
   ]
  },
  {
   "cell_type": "code",
   "execution_count": 2,
   "metadata": {},
   "outputs": [],
   "source": [
    "# Dependencies\n",
    "import numpy as np\n",
    "import pandas as pd\n",
    "import matplotlib.pyplot as plt\n",
    "import requests\n",
    "import scipy.stats as stats\n",
    "from census import Census\n",
    "import gmaps\n",
    "from us import states\n",
    "from scipy.stats import linregress\n",
    "from sklearn.preprocessing import MinMaxScaler\n",
    "from sklearn.metrics import r2_score\n",
    "import statsmodels.api as sm\n",
    "\n",
    "# Census & gmaps API Keys\n",
    "from config import (census_key, gkey)\n",
    "c = Census(census_key)\n",
    "\n",
    "# Configure gmaps\n",
    "gmaps.configure(api_key=gkey)"
   ]
  },
  {
   "cell_type": "code",
   "execution_count": 3,
   "metadata": {},
   "outputs": [
    {
     "data": {
      "text/html": [
       "<div>\n",
       "<style scoped>\n",
       "    .dataframe tbody tr th:only-of-type {\n",
       "        vertical-align: middle;\n",
       "    }\n",
       "\n",
       "    .dataframe tbody tr th {\n",
       "        vertical-align: top;\n",
       "    }\n",
       "\n",
       "    .dataframe thead th {\n",
       "        text-align: right;\n",
       "    }\n",
       "</style>\n",
       "<table border=\"1\" class=\"dataframe\">\n",
       "  <thead>\n",
       "    <tr style=\"text-align: right;\">\n",
       "      <th></th>\n",
       "      <th>id</th>\n",
       "      <th>name</th>\n",
       "      <th>date</th>\n",
       "      <th>manner_of_death</th>\n",
       "      <th>armed</th>\n",
       "      <th>age</th>\n",
       "      <th>gender</th>\n",
       "      <th>race</th>\n",
       "      <th>city</th>\n",
       "      <th>state</th>\n",
       "      <th>signs_of_mental_illness</th>\n",
       "      <th>threat_level</th>\n",
       "      <th>flee</th>\n",
       "      <th>body_camera</th>\n",
       "      <th>arms_category</th>\n",
       "    </tr>\n",
       "  </thead>\n",
       "  <tbody>\n",
       "    <tr>\n",
       "      <th>0</th>\n",
       "      <td>3</td>\n",
       "      <td>Tim Elliot</td>\n",
       "      <td>2015-01-02</td>\n",
       "      <td>shot</td>\n",
       "      <td>gun</td>\n",
       "      <td>53.0</td>\n",
       "      <td>M</td>\n",
       "      <td>Asian</td>\n",
       "      <td>Shelton</td>\n",
       "      <td>WA</td>\n",
       "      <td>True</td>\n",
       "      <td>attack</td>\n",
       "      <td>Not fleeing</td>\n",
       "      <td>False</td>\n",
       "      <td>Guns</td>\n",
       "    </tr>\n",
       "    <tr>\n",
       "      <th>1</th>\n",
       "      <td>4</td>\n",
       "      <td>Lewis Lee Lembke</td>\n",
       "      <td>2015-01-02</td>\n",
       "      <td>shot</td>\n",
       "      <td>gun</td>\n",
       "      <td>47.0</td>\n",
       "      <td>M</td>\n",
       "      <td>White</td>\n",
       "      <td>Aloha</td>\n",
       "      <td>OR</td>\n",
       "      <td>False</td>\n",
       "      <td>attack</td>\n",
       "      <td>Not fleeing</td>\n",
       "      <td>False</td>\n",
       "      <td>Guns</td>\n",
       "    </tr>\n",
       "    <tr>\n",
       "      <th>2</th>\n",
       "      <td>5</td>\n",
       "      <td>John Paul Quintero</td>\n",
       "      <td>2015-01-03</td>\n",
       "      <td>shot and Tasered</td>\n",
       "      <td>unarmed</td>\n",
       "      <td>23.0</td>\n",
       "      <td>M</td>\n",
       "      <td>Hispanic</td>\n",
       "      <td>Wichita</td>\n",
       "      <td>KS</td>\n",
       "      <td>False</td>\n",
       "      <td>other</td>\n",
       "      <td>Not fleeing</td>\n",
       "      <td>False</td>\n",
       "      <td>Unarmed</td>\n",
       "    </tr>\n",
       "    <tr>\n",
       "      <th>3</th>\n",
       "      <td>8</td>\n",
       "      <td>Matthew Hoffman</td>\n",
       "      <td>2015-01-04</td>\n",
       "      <td>shot</td>\n",
       "      <td>toy weapon</td>\n",
       "      <td>32.0</td>\n",
       "      <td>M</td>\n",
       "      <td>White</td>\n",
       "      <td>San Francisco</td>\n",
       "      <td>CA</td>\n",
       "      <td>True</td>\n",
       "      <td>attack</td>\n",
       "      <td>Not fleeing</td>\n",
       "      <td>False</td>\n",
       "      <td>Other unusual objects</td>\n",
       "    </tr>\n",
       "    <tr>\n",
       "      <th>4</th>\n",
       "      <td>9</td>\n",
       "      <td>Michael Rodriguez</td>\n",
       "      <td>2015-01-04</td>\n",
       "      <td>shot</td>\n",
       "      <td>nail gun</td>\n",
       "      <td>39.0</td>\n",
       "      <td>M</td>\n",
       "      <td>Hispanic</td>\n",
       "      <td>Evans</td>\n",
       "      <td>CO</td>\n",
       "      <td>False</td>\n",
       "      <td>attack</td>\n",
       "      <td>Not fleeing</td>\n",
       "      <td>False</td>\n",
       "      <td>Piercing objects</td>\n",
       "    </tr>\n",
       "    <tr>\n",
       "      <th>...</th>\n",
       "      <td>...</td>\n",
       "      <td>...</td>\n",
       "      <td>...</td>\n",
       "      <td>...</td>\n",
       "      <td>...</td>\n",
       "      <td>...</td>\n",
       "      <td>...</td>\n",
       "      <td>...</td>\n",
       "      <td>...</td>\n",
       "      <td>...</td>\n",
       "      <td>...</td>\n",
       "      <td>...</td>\n",
       "      <td>...</td>\n",
       "      <td>...</td>\n",
       "      <td>...</td>\n",
       "    </tr>\n",
       "    <tr>\n",
       "      <th>4890</th>\n",
       "      <td>5916</td>\n",
       "      <td>Rayshard Brooks</td>\n",
       "      <td>2020-06-12</td>\n",
       "      <td>shot</td>\n",
       "      <td>Taser</td>\n",
       "      <td>27.0</td>\n",
       "      <td>M</td>\n",
       "      <td>Black</td>\n",
       "      <td>Atlanta</td>\n",
       "      <td>GA</td>\n",
       "      <td>False</td>\n",
       "      <td>attack</td>\n",
       "      <td>Foot</td>\n",
       "      <td>True</td>\n",
       "      <td>Electrical devices</td>\n",
       "    </tr>\n",
       "    <tr>\n",
       "      <th>4891</th>\n",
       "      <td>5925</td>\n",
       "      <td>Caine Van Pelt</td>\n",
       "      <td>2020-06-12</td>\n",
       "      <td>shot</td>\n",
       "      <td>gun</td>\n",
       "      <td>23.0</td>\n",
       "      <td>M</td>\n",
       "      <td>Black</td>\n",
       "      <td>Crown Point</td>\n",
       "      <td>IN</td>\n",
       "      <td>False</td>\n",
       "      <td>attack</td>\n",
       "      <td>Car</td>\n",
       "      <td>False</td>\n",
       "      <td>Guns</td>\n",
       "    </tr>\n",
       "    <tr>\n",
       "      <th>4892</th>\n",
       "      <td>5918</td>\n",
       "      <td>Hannah Fizer</td>\n",
       "      <td>2020-06-13</td>\n",
       "      <td>shot</td>\n",
       "      <td>unarmed</td>\n",
       "      <td>25.0</td>\n",
       "      <td>F</td>\n",
       "      <td>White</td>\n",
       "      <td>Sedalia</td>\n",
       "      <td>MO</td>\n",
       "      <td>False</td>\n",
       "      <td>other</td>\n",
       "      <td>Not fleeing</td>\n",
       "      <td>False</td>\n",
       "      <td>Unarmed</td>\n",
       "    </tr>\n",
       "    <tr>\n",
       "      <th>4893</th>\n",
       "      <td>5921</td>\n",
       "      <td>William Slyter</td>\n",
       "      <td>2020-06-13</td>\n",
       "      <td>shot</td>\n",
       "      <td>gun</td>\n",
       "      <td>22.0</td>\n",
       "      <td>M</td>\n",
       "      <td>White</td>\n",
       "      <td>Kansas City</td>\n",
       "      <td>MO</td>\n",
       "      <td>False</td>\n",
       "      <td>other</td>\n",
       "      <td>Other</td>\n",
       "      <td>False</td>\n",
       "      <td>Guns</td>\n",
       "    </tr>\n",
       "    <tr>\n",
       "      <th>4894</th>\n",
       "      <td>5924</td>\n",
       "      <td>Nicholas Hirsh</td>\n",
       "      <td>2020-06-15</td>\n",
       "      <td>shot</td>\n",
       "      <td>gun</td>\n",
       "      <td>31.0</td>\n",
       "      <td>M</td>\n",
       "      <td>White</td>\n",
       "      <td>Lawrence</td>\n",
       "      <td>KS</td>\n",
       "      <td>False</td>\n",
       "      <td>attack</td>\n",
       "      <td>Car</td>\n",
       "      <td>False</td>\n",
       "      <td>Guns</td>\n",
       "    </tr>\n",
       "  </tbody>\n",
       "</table>\n",
       "<p>4895 rows × 15 columns</p>\n",
       "</div>"
      ],
      "text/plain": [
       "        id                name        date   manner_of_death       armed  \\\n",
       "0        3          Tim Elliot  2015-01-02              shot         gun   \n",
       "1        4    Lewis Lee Lembke  2015-01-02              shot         gun   \n",
       "2        5  John Paul Quintero  2015-01-03  shot and Tasered     unarmed   \n",
       "3        8     Matthew Hoffman  2015-01-04              shot  toy weapon   \n",
       "4        9   Michael Rodriguez  2015-01-04              shot    nail gun   \n",
       "...    ...                 ...         ...               ...         ...   \n",
       "4890  5916     Rayshard Brooks  2020-06-12              shot       Taser   \n",
       "4891  5925      Caine Van Pelt  2020-06-12              shot         gun   \n",
       "4892  5918        Hannah Fizer  2020-06-13              shot     unarmed   \n",
       "4893  5921      William Slyter  2020-06-13              shot         gun   \n",
       "4894  5924      Nicholas Hirsh  2020-06-15              shot         gun   \n",
       "\n",
       "       age gender      race           city state  signs_of_mental_illness  \\\n",
       "0     53.0      M     Asian        Shelton    WA                     True   \n",
       "1     47.0      M     White          Aloha    OR                    False   \n",
       "2     23.0      M  Hispanic        Wichita    KS                    False   \n",
       "3     32.0      M     White  San Francisco    CA                     True   \n",
       "4     39.0      M  Hispanic          Evans    CO                    False   \n",
       "...    ...    ...       ...            ...   ...                      ...   \n",
       "4890  27.0      M     Black        Atlanta    GA                    False   \n",
       "4891  23.0      M     Black    Crown Point    IN                    False   \n",
       "4892  25.0      F     White        Sedalia    MO                    False   \n",
       "4893  22.0      M     White    Kansas City    MO                    False   \n",
       "4894  31.0      M     White       Lawrence    KS                    False   \n",
       "\n",
       "     threat_level         flee  body_camera          arms_category  \n",
       "0          attack  Not fleeing        False                   Guns  \n",
       "1          attack  Not fleeing        False                   Guns  \n",
       "2           other  Not fleeing        False                Unarmed  \n",
       "3          attack  Not fleeing        False  Other unusual objects  \n",
       "4          attack  Not fleeing        False       Piercing objects  \n",
       "...           ...          ...          ...                    ...  \n",
       "4890       attack         Foot         True     Electrical devices  \n",
       "4891       attack          Car        False                   Guns  \n",
       "4892        other  Not fleeing        False                Unarmed  \n",
       "4893        other        Other        False                   Guns  \n",
       "4894       attack          Car        False                   Guns  \n",
       "\n",
       "[4895 rows x 15 columns]"
      ]
     },
     "execution_count": 3,
     "metadata": {},
     "output_type": "execute_result"
    }
   ],
   "source": [
    "#Read US shootings data\n",
    "usshootings_df = pd.read_csv(\"Resources/shootings.csv\")\n",
    "usshootings_df"
   ]
  },
  {
   "cell_type": "code",
   "execution_count": 4,
   "metadata": {},
   "outputs": [
    {
     "data": {
      "text/html": [
       "<div>\n",
       "<style scoped>\n",
       "    .dataframe tbody tr th:only-of-type {\n",
       "        vertical-align: middle;\n",
       "    }\n",
       "\n",
       "    .dataframe tbody tr th {\n",
       "        vertical-align: top;\n",
       "    }\n",
       "\n",
       "    .dataframe thead th {\n",
       "        text-align: right;\n",
       "    }\n",
       "</style>\n",
       "<table border=\"1\" class=\"dataframe\">\n",
       "  <thead>\n",
       "    <tr style=\"text-align: right;\">\n",
       "      <th></th>\n",
       "      <th>id</th>\n",
       "      <th>name</th>\n",
       "      <th>date</th>\n",
       "      <th>manner_of_death</th>\n",
       "      <th>armed</th>\n",
       "      <th>age</th>\n",
       "      <th>gender</th>\n",
       "      <th>race</th>\n",
       "      <th>city</th>\n",
       "      <th>state</th>\n",
       "      <th>signs_of_mental_illness</th>\n",
       "      <th>threat_level</th>\n",
       "      <th>flee</th>\n",
       "      <th>body_camera</th>\n",
       "      <th>arms_category</th>\n",
       "      <th>State Name</th>\n",
       "    </tr>\n",
       "  </thead>\n",
       "  <tbody>\n",
       "    <tr>\n",
       "      <th>0</th>\n",
       "      <td>3</td>\n",
       "      <td>Tim Elliot</td>\n",
       "      <td>2015-01-02</td>\n",
       "      <td>shot</td>\n",
       "      <td>gun</td>\n",
       "      <td>53.0</td>\n",
       "      <td>M</td>\n",
       "      <td>Asian</td>\n",
       "      <td>Shelton</td>\n",
       "      <td>WA</td>\n",
       "      <td>True</td>\n",
       "      <td>attack</td>\n",
       "      <td>Not fleeing</td>\n",
       "      <td>False</td>\n",
       "      <td>Guns</td>\n",
       "      <td>Washington</td>\n",
       "    </tr>\n",
       "    <tr>\n",
       "      <th>1</th>\n",
       "      <td>138</td>\n",
       "      <td>Antonio Zambrano-Montes</td>\n",
       "      <td>2015-02-10</td>\n",
       "      <td>shot and Tasered</td>\n",
       "      <td>unarmed</td>\n",
       "      <td>35.0</td>\n",
       "      <td>M</td>\n",
       "      <td>Hispanic</td>\n",
       "      <td>Pasco</td>\n",
       "      <td>WA</td>\n",
       "      <td>True</td>\n",
       "      <td>other</td>\n",
       "      <td>Foot</td>\n",
       "      <td>False</td>\n",
       "      <td>Unarmed</td>\n",
       "      <td>Washington</td>\n",
       "    </tr>\n",
       "    <tr>\n",
       "      <th>2</th>\n",
       "      <td>295</td>\n",
       "      <td>Jamison  Childress</td>\n",
       "      <td>2015-03-19</td>\n",
       "      <td>shot</td>\n",
       "      <td>unarmed</td>\n",
       "      <td>20.0</td>\n",
       "      <td>M</td>\n",
       "      <td>White</td>\n",
       "      <td>Sumas</td>\n",
       "      <td>WA</td>\n",
       "      <td>True</td>\n",
       "      <td>attack</td>\n",
       "      <td>Not fleeing</td>\n",
       "      <td>False</td>\n",
       "      <td>Unarmed</td>\n",
       "      <td>Washington</td>\n",
       "    </tr>\n",
       "    <tr>\n",
       "      <th>3</th>\n",
       "      <td>393</td>\n",
       "      <td>Daniel Covarrubias</td>\n",
       "      <td>2015-04-21</td>\n",
       "      <td>shot</td>\n",
       "      <td>unarmed</td>\n",
       "      <td>37.0</td>\n",
       "      <td>M</td>\n",
       "      <td>Native</td>\n",
       "      <td>Lakewood</td>\n",
       "      <td>WA</td>\n",
       "      <td>True</td>\n",
       "      <td>other</td>\n",
       "      <td>Foot</td>\n",
       "      <td>False</td>\n",
       "      <td>Unarmed</td>\n",
       "      <td>Washington</td>\n",
       "    </tr>\n",
       "    <tr>\n",
       "      <th>4</th>\n",
       "      <td>431</td>\n",
       "      <td>Roark Cook</td>\n",
       "      <td>2015-05-04</td>\n",
       "      <td>shot</td>\n",
       "      <td>toy weapon</td>\n",
       "      <td>36.0</td>\n",
       "      <td>M</td>\n",
       "      <td>White</td>\n",
       "      <td>Kennewick</td>\n",
       "      <td>WA</td>\n",
       "      <td>True</td>\n",
       "      <td>attack</td>\n",
       "      <td>Not fleeing</td>\n",
       "      <td>False</td>\n",
       "      <td>Other unusual objects</td>\n",
       "      <td>Washington</td>\n",
       "    </tr>\n",
       "    <tr>\n",
       "      <th>...</th>\n",
       "      <td>...</td>\n",
       "      <td>...</td>\n",
       "      <td>...</td>\n",
       "      <td>...</td>\n",
       "      <td>...</td>\n",
       "      <td>...</td>\n",
       "      <td>...</td>\n",
       "      <td>...</td>\n",
       "      <td>...</td>\n",
       "      <td>...</td>\n",
       "      <td>...</td>\n",
       "      <td>...</td>\n",
       "      <td>...</td>\n",
       "      <td>...</td>\n",
       "      <td>...</td>\n",
       "      <td>...</td>\n",
       "    </tr>\n",
       "    <tr>\n",
       "      <th>4890</th>\n",
       "      <td>5081</td>\n",
       "      <td>Christopher G. Louras</td>\n",
       "      <td>2019-10-01</td>\n",
       "      <td>shot</td>\n",
       "      <td>gun</td>\n",
       "      <td>34.0</td>\n",
       "      <td>M</td>\n",
       "      <td>White</td>\n",
       "      <td>Rutland</td>\n",
       "      <td>VT</td>\n",
       "      <td>False</td>\n",
       "      <td>attack</td>\n",
       "      <td>Car</td>\n",
       "      <td>False</td>\n",
       "      <td>Guns</td>\n",
       "      <td>Vermont</td>\n",
       "    </tr>\n",
       "    <tr>\n",
       "      <th>4891</th>\n",
       "      <td>1405</td>\n",
       "      <td>Dominique Silva</td>\n",
       "      <td>2016-03-24</td>\n",
       "      <td>shot</td>\n",
       "      <td>toy weapon</td>\n",
       "      <td>24.0</td>\n",
       "      <td>M</td>\n",
       "      <td>Black</td>\n",
       "      <td>Pawtucket</td>\n",
       "      <td>RI</td>\n",
       "      <td>False</td>\n",
       "      <td>attack</td>\n",
       "      <td>Foot</td>\n",
       "      <td>False</td>\n",
       "      <td>Other unusual objects</td>\n",
       "      <td>Rhode Island</td>\n",
       "    </tr>\n",
       "    <tr>\n",
       "      <th>4892</th>\n",
       "      <td>1621</td>\n",
       "      <td>Edward Acquisto</td>\n",
       "      <td>2016-06-13</td>\n",
       "      <td>shot</td>\n",
       "      <td>gun</td>\n",
       "      <td>80.0</td>\n",
       "      <td>M</td>\n",
       "      <td>Hispanic</td>\n",
       "      <td>Tiverton</td>\n",
       "      <td>RI</td>\n",
       "      <td>False</td>\n",
       "      <td>attack</td>\n",
       "      <td>Car</td>\n",
       "      <td>False</td>\n",
       "      <td>Guns</td>\n",
       "      <td>Rhode Island</td>\n",
       "    </tr>\n",
       "    <tr>\n",
       "      <th>4893</th>\n",
       "      <td>3119</td>\n",
       "      <td>Joseph Santos</td>\n",
       "      <td>2017-11-09</td>\n",
       "      <td>shot</td>\n",
       "      <td>unknown</td>\n",
       "      <td>32.0</td>\n",
       "      <td>M</td>\n",
       "      <td>White</td>\n",
       "      <td>Providence</td>\n",
       "      <td>RI</td>\n",
       "      <td>False</td>\n",
       "      <td>attack</td>\n",
       "      <td>Car</td>\n",
       "      <td>True</td>\n",
       "      <td>Unknown</td>\n",
       "      <td>Rhode Island</td>\n",
       "    </tr>\n",
       "    <tr>\n",
       "      <th>4894</th>\n",
       "      <td>4023</td>\n",
       "      <td>DaShawn Cole</td>\n",
       "      <td>2018-09-07</td>\n",
       "      <td>shot</td>\n",
       "      <td>gun</td>\n",
       "      <td>28.0</td>\n",
       "      <td>M</td>\n",
       "      <td>Black</td>\n",
       "      <td>Pawtucket</td>\n",
       "      <td>RI</td>\n",
       "      <td>False</td>\n",
       "      <td>attack</td>\n",
       "      <td>Other</td>\n",
       "      <td>False</td>\n",
       "      <td>Guns</td>\n",
       "      <td>Rhode Island</td>\n",
       "    </tr>\n",
       "  </tbody>\n",
       "</table>\n",
       "<p>4895 rows × 16 columns</p>\n",
       "</div>"
      ],
      "text/plain": [
       "        id                     name        date   manner_of_death       armed  \\\n",
       "0        3               Tim Elliot  2015-01-02              shot         gun   \n",
       "1      138  Antonio Zambrano-Montes  2015-02-10  shot and Tasered     unarmed   \n",
       "2      295       Jamison  Childress  2015-03-19              shot     unarmed   \n",
       "3      393       Daniel Covarrubias  2015-04-21              shot     unarmed   \n",
       "4      431               Roark Cook  2015-05-04              shot  toy weapon   \n",
       "...    ...                      ...         ...               ...         ...   \n",
       "4890  5081    Christopher G. Louras  2019-10-01              shot         gun   \n",
       "4891  1405          Dominique Silva  2016-03-24              shot  toy weapon   \n",
       "4892  1621          Edward Acquisto  2016-06-13              shot         gun   \n",
       "4893  3119            Joseph Santos  2017-11-09              shot     unknown   \n",
       "4894  4023             DaShawn Cole  2018-09-07              shot         gun   \n",
       "\n",
       "       age gender      race        city state  signs_of_mental_illness  \\\n",
       "0     53.0      M     Asian     Shelton    WA                     True   \n",
       "1     35.0      M  Hispanic       Pasco    WA                     True   \n",
       "2     20.0      M     White       Sumas    WA                     True   \n",
       "3     37.0      M    Native    Lakewood    WA                     True   \n",
       "4     36.0      M     White   Kennewick    WA                     True   \n",
       "...    ...    ...       ...         ...   ...                      ...   \n",
       "4890  34.0      M     White     Rutland    VT                    False   \n",
       "4891  24.0      M     Black   Pawtucket    RI                    False   \n",
       "4892  80.0      M  Hispanic    Tiverton    RI                    False   \n",
       "4893  32.0      M     White  Providence    RI                    False   \n",
       "4894  28.0      M     Black   Pawtucket    RI                    False   \n",
       "\n",
       "     threat_level         flee  body_camera          arms_category  \\\n",
       "0          attack  Not fleeing        False                   Guns   \n",
       "1           other         Foot        False                Unarmed   \n",
       "2          attack  Not fleeing        False                Unarmed   \n",
       "3           other         Foot        False                Unarmed   \n",
       "4          attack  Not fleeing        False  Other unusual objects   \n",
       "...           ...          ...          ...                    ...   \n",
       "4890       attack          Car        False                   Guns   \n",
       "4891       attack         Foot        False  Other unusual objects   \n",
       "4892       attack          Car        False                   Guns   \n",
       "4893       attack          Car         True                Unknown   \n",
       "4894       attack        Other        False                   Guns   \n",
       "\n",
       "        State Name  \n",
       "0       Washington  \n",
       "1       Washington  \n",
       "2       Washington  \n",
       "3       Washington  \n",
       "4       Washington  \n",
       "...            ...  \n",
       "4890       Vermont  \n",
       "4891  Rhode Island  \n",
       "4892  Rhode Island  \n",
       "4893  Rhode Island  \n",
       "4894  Rhode Island  \n",
       "\n",
       "[4895 rows x 16 columns]"
      ]
     },
     "execution_count": 4,
     "metadata": {},
     "output_type": "execute_result"
    }
   ],
   "source": [
    "#Get state names by joining US State Abreviation csv\n",
    "usstates_df = pd.read_csv(\"Resources/US_State_Abreviation.csv\")\n",
    "usstates_df = usstates_df.rename(columns={\"State\": \"state\"})\n",
    "\n",
    "usshootingsbystate_df = usshootings_df.merge(usstates_df)\n",
    "usshootingsbystate_df"
   ]
  },
  {
   "cell_type": "markdown",
   "metadata": {},
   "source": [
    "Shootings by race of victim"
   ]
  },
  {
   "cell_type": "code",
   "execution_count": 37,
   "metadata": {},
   "outputs": [
    {
     "data": {
      "text/html": [
       "<div>\n",
       "<style scoped>\n",
       "    .dataframe tbody tr th:only-of-type {\n",
       "        vertical-align: middle;\n",
       "    }\n",
       "\n",
       "    .dataframe tbody tr th {\n",
       "        vertical-align: top;\n",
       "    }\n",
       "\n",
       "    .dataframe thead th {\n",
       "        text-align: right;\n",
       "    }\n",
       "</style>\n",
       "<table border=\"1\" class=\"dataframe\">\n",
       "  <thead>\n",
       "    <tr style=\"text-align: right;\">\n",
       "      <th></th>\n",
       "      <th>id</th>\n",
       "    </tr>\n",
       "    <tr>\n",
       "      <th>race</th>\n",
       "      <th></th>\n",
       "    </tr>\n",
       "  </thead>\n",
       "  <tbody>\n",
       "    <tr>\n",
       "      <th>Asian</th>\n",
       "      <td>93</td>\n",
       "    </tr>\n",
       "    <tr>\n",
       "      <th>Black</th>\n",
       "      <td>1298</td>\n",
       "    </tr>\n",
       "    <tr>\n",
       "      <th>Hispanic</th>\n",
       "      <td>902</td>\n",
       "    </tr>\n",
       "    <tr>\n",
       "      <th>Native</th>\n",
       "      <td>78</td>\n",
       "    </tr>\n",
       "    <tr>\n",
       "      <th>Other</th>\n",
       "      <td>48</td>\n",
       "    </tr>\n",
       "    <tr>\n",
       "      <th>White</th>\n",
       "      <td>2476</td>\n",
       "    </tr>\n",
       "  </tbody>\n",
       "</table>\n",
       "</div>"
      ],
      "text/plain": [
       "            id\n",
       "race          \n",
       "Asian       93\n",
       "Black     1298\n",
       "Hispanic   902\n",
       "Native      78\n",
       "Other       48\n",
       "White     2476"
      ]
     },
     "execution_count": 37,
     "metadata": {},
     "output_type": "execute_result"
    }
   ],
   "source": [
    "#Number of police shootings by race\n",
    "race = usshootingsbystate_df.groupby(['race'])\n",
    "race_df = pd.DataFrame(race[\"id\"].count())\n",
    "race_df"
   ]
  },
  {
   "cell_type": "code",
   "execution_count": 38,
   "metadata": {},
   "outputs": [
    {
     "data": {
      "image/png": "[encoded data removed]",
      "text/plain": [
       "<Figure size 360x216 with 1 Axes>"
      ]
     },
     "metadata": {
      "needs_background": "light"
     },
     "output_type": "display_data"
    }
   ],
   "source": [
    "#Plot graph\n",
    "race_df.plot(kind=\"bar\", figsize=(5,3), title = \"Number of Police Shooting Deaths by Race of Victim\")\n",
    "plt.ylabel(\"Number of victims\")\n",
    "plt.xlabel(\"Race\")\n",
    "plt.savefig('Images/Total_Shootings_Barchart.png',dpi=300, bbox_inches = \"tight\")"
   ]
  },
  {
   "cell_type": "code",
   "execution_count": 7,
   "metadata": {},
   "outputs": [
    {
     "name": "stdout",
     "output_type": "stream",
     "text": [
      "Critical Value = 11.070497693516351\n",
      "Power_divergenceResult(statistic=5702.778549540347, pvalue=0.0)\n",
      "Since the chi square value of 5702.8 exceeds the critical value of 11.1, we conclude that the results are statistically significant.\n"
     ]
    }
   ],
   "source": [
    "# Add a column whose default values are the expected values\n",
    "race_df[\"expected\"] = race_df[\"id\"].sum()/6\n",
    "race_df\n",
    "\n",
    "#Find critical value\n",
    "critical_value = stats.chi2.ppf(q = 0.95, df = 5)\n",
    "print(f\"Critical Value = {critical_value}\")\n",
    "# Run the chi square test with stats.chisquare()\n",
    "chi = stats.chisquare(race_df['id'], race_df['expected'])\n",
    "print(chi)\n",
    "print(f\"Since the chi square value of 5702.8 exceeds the critical value of 11.1, we conclude that the results are statistically significant.\")"
   ]
  },
  {
   "cell_type": "code",
   "execution_count": 8,
   "metadata": {},
   "outputs": [
    {
     "data": {
      "text/html": [
       "<div>\n",
       "<style scoped>\n",
       "    .dataframe tbody tr th:only-of-type {\n",
       "        vertical-align: middle;\n",
       "    }\n",
       "\n",
       "    .dataframe tbody tr th {\n",
       "        vertical-align: top;\n",
       "    }\n",
       "\n",
       "    .dataframe thead th {\n",
       "        text-align: right;\n",
       "    }\n",
       "</style>\n",
       "<table border=\"1\" class=\"dataframe\">\n",
       "  <thead>\n",
       "    <tr style=\"text-align: right;\">\n",
       "      <th></th>\n",
       "      <th>id</th>\n",
       "      <th>name</th>\n",
       "      <th>date</th>\n",
       "      <th>manner_of_death</th>\n",
       "      <th>armed</th>\n",
       "      <th>age</th>\n",
       "      <th>gender</th>\n",
       "      <th>race</th>\n",
       "      <th>city</th>\n",
       "      <th>state</th>\n",
       "      <th>signs_of_mental_illness</th>\n",
       "      <th>threat_level</th>\n",
       "      <th>flee</th>\n",
       "      <th>body_camera</th>\n",
       "      <th>arms_category</th>\n",
       "      <th>State Name</th>\n",
       "    </tr>\n",
       "  </thead>\n",
       "  <tbody>\n",
       "    <tr>\n",
       "      <th>0</th>\n",
       "      <td>138</td>\n",
       "      <td>Antonio Zambrano-Montes</td>\n",
       "      <td>2015-02-10</td>\n",
       "      <td>shot and Tasered</td>\n",
       "      <td>unarmed</td>\n",
       "      <td>35.0</td>\n",
       "      <td>M</td>\n",
       "      <td>Hispanic</td>\n",
       "      <td>Pasco</td>\n",
       "      <td>WA</td>\n",
       "      <td>True</td>\n",
       "      <td>other</td>\n",
       "      <td>Foot</td>\n",
       "      <td>False</td>\n",
       "      <td>Unarmed</td>\n",
       "      <td>Washington</td>\n",
       "    </tr>\n",
       "    <tr>\n",
       "      <th>1</th>\n",
       "      <td>295</td>\n",
       "      <td>Jamison  Childress</td>\n",
       "      <td>2015-03-19</td>\n",
       "      <td>shot</td>\n",
       "      <td>unarmed</td>\n",
       "      <td>20.0</td>\n",
       "      <td>M</td>\n",
       "      <td>White</td>\n",
       "      <td>Sumas</td>\n",
       "      <td>WA</td>\n",
       "      <td>True</td>\n",
       "      <td>attack</td>\n",
       "      <td>Not fleeing</td>\n",
       "      <td>False</td>\n",
       "      <td>Unarmed</td>\n",
       "      <td>Washington</td>\n",
       "    </tr>\n",
       "    <tr>\n",
       "      <th>2</th>\n",
       "      <td>393</td>\n",
       "      <td>Daniel Covarrubias</td>\n",
       "      <td>2015-04-21</td>\n",
       "      <td>shot</td>\n",
       "      <td>unarmed</td>\n",
       "      <td>37.0</td>\n",
       "      <td>M</td>\n",
       "      <td>Native</td>\n",
       "      <td>Lakewood</td>\n",
       "      <td>WA</td>\n",
       "      <td>True</td>\n",
       "      <td>other</td>\n",
       "      <td>Foot</td>\n",
       "      <td>False</td>\n",
       "      <td>Unarmed</td>\n",
       "      <td>Washington</td>\n",
       "    </tr>\n",
       "    <tr>\n",
       "      <th>3</th>\n",
       "      <td>4133</td>\n",
       "      <td>Nickolas Michael Peters</td>\n",
       "      <td>2018-10-23</td>\n",
       "      <td>shot</td>\n",
       "      <td>unarmed</td>\n",
       "      <td>24.0</td>\n",
       "      <td>M</td>\n",
       "      <td>White</td>\n",
       "      <td>Alderwood Manor</td>\n",
       "      <td>WA</td>\n",
       "      <td>False</td>\n",
       "      <td>attack</td>\n",
       "      <td>Car</td>\n",
       "      <td>False</td>\n",
       "      <td>Unarmed</td>\n",
       "      <td>Washington</td>\n",
       "    </tr>\n",
       "    <tr>\n",
       "      <th>4</th>\n",
       "      <td>4708</td>\n",
       "      <td>Ethan Austin Murray</td>\n",
       "      <td>2019-05-04</td>\n",
       "      <td>shot</td>\n",
       "      <td>unarmed</td>\n",
       "      <td>25.0</td>\n",
       "      <td>M</td>\n",
       "      <td>White</td>\n",
       "      <td>Spokane</td>\n",
       "      <td>WA</td>\n",
       "      <td>True</td>\n",
       "      <td>other</td>\n",
       "      <td>Foot</td>\n",
       "      <td>False</td>\n",
       "      <td>Unarmed</td>\n",
       "      <td>Washington</td>\n",
       "    </tr>\n",
       "    <tr>\n",
       "      <th>...</th>\n",
       "      <td>...</td>\n",
       "      <td>...</td>\n",
       "      <td>...</td>\n",
       "      <td>...</td>\n",
       "      <td>...</td>\n",
       "      <td>...</td>\n",
       "      <td>...</td>\n",
       "      <td>...</td>\n",
       "      <td>...</td>\n",
       "      <td>...</td>\n",
       "      <td>...</td>\n",
       "      <td>...</td>\n",
       "      <td>...</td>\n",
       "      <td>...</td>\n",
       "      <td>...</td>\n",
       "      <td>...</td>\n",
       "    </tr>\n",
       "    <tr>\n",
       "      <th>343</th>\n",
       "      <td>3825</td>\n",
       "      <td>Daniel A. Fuller</td>\n",
       "      <td>2018-07-05</td>\n",
       "      <td>shot</td>\n",
       "      <td>unarmed</td>\n",
       "      <td>26.0</td>\n",
       "      <td>M</td>\n",
       "      <td>White</td>\n",
       "      <td>Devil's Lake</td>\n",
       "      <td>ND</td>\n",
       "      <td>False</td>\n",
       "      <td>attack</td>\n",
       "      <td>Foot</td>\n",
       "      <td>True</td>\n",
       "      <td>Unarmed</td>\n",
       "      <td>North Dakota</td>\n",
       "    </tr>\n",
       "    <tr>\n",
       "      <th>344</th>\n",
       "      <td>5020</td>\n",
       "      <td>John Carras</td>\n",
       "      <td>2019-09-05</td>\n",
       "      <td>shot</td>\n",
       "      <td>unarmed</td>\n",
       "      <td>43.0</td>\n",
       "      <td>M</td>\n",
       "      <td>White</td>\n",
       "      <td>East Hartford</td>\n",
       "      <td>CT</td>\n",
       "      <td>False</td>\n",
       "      <td>attack</td>\n",
       "      <td>Not fleeing</td>\n",
       "      <td>False</td>\n",
       "      <td>Unarmed</td>\n",
       "      <td>Connecticut</td>\n",
       "    </tr>\n",
       "    <tr>\n",
       "      <th>345</th>\n",
       "      <td>5713</td>\n",
       "      <td>Jose Soto</td>\n",
       "      <td>2020-04-02</td>\n",
       "      <td>shot</td>\n",
       "      <td>unarmed</td>\n",
       "      <td>27.0</td>\n",
       "      <td>M</td>\n",
       "      <td>Hispanic</td>\n",
       "      <td>Manchester</td>\n",
       "      <td>CT</td>\n",
       "      <td>True</td>\n",
       "      <td>other</td>\n",
       "      <td>Not fleeing</td>\n",
       "      <td>False</td>\n",
       "      <td>Unarmed</td>\n",
       "      <td>Connecticut</td>\n",
       "    </tr>\n",
       "    <tr>\n",
       "      <th>346</th>\n",
       "      <td>1324</td>\n",
       "      <td>Abraham Mitchell Fryer</td>\n",
       "      <td>2016-02-26</td>\n",
       "      <td>shot</td>\n",
       "      <td>unarmed</td>\n",
       "      <td>35.0</td>\n",
       "      <td>M</td>\n",
       "      <td>White</td>\n",
       "      <td>Rapid Valley</td>\n",
       "      <td>SD</td>\n",
       "      <td>False</td>\n",
       "      <td>attack</td>\n",
       "      <td>Not fleeing</td>\n",
       "      <td>False</td>\n",
       "      <td>Unarmed</td>\n",
       "      <td>South Dakota</td>\n",
       "    </tr>\n",
       "    <tr>\n",
       "      <th>347</th>\n",
       "      <td>1889</td>\n",
       "      <td>Jesse Beshaw</td>\n",
       "      <td>2016-09-16</td>\n",
       "      <td>shot</td>\n",
       "      <td>unarmed</td>\n",
       "      <td>29.0</td>\n",
       "      <td>M</td>\n",
       "      <td>Native</td>\n",
       "      <td>Winooski</td>\n",
       "      <td>VT</td>\n",
       "      <td>False</td>\n",
       "      <td>other</td>\n",
       "      <td>Foot</td>\n",
       "      <td>True</td>\n",
       "      <td>Unarmed</td>\n",
       "      <td>Vermont</td>\n",
       "    </tr>\n",
       "  </tbody>\n",
       "</table>\n",
       "<p>348 rows × 16 columns</p>\n",
       "</div>"
      ],
      "text/plain": [
       "       id                     name        date   manner_of_death    armed  \\\n",
       "0     138  Antonio Zambrano-Montes  2015-02-10  shot and Tasered  unarmed   \n",
       "1     295       Jamison  Childress  2015-03-19              shot  unarmed   \n",
       "2     393       Daniel Covarrubias  2015-04-21              shot  unarmed   \n",
       "3    4133  Nickolas Michael Peters  2018-10-23              shot  unarmed   \n",
       "4    4708      Ethan Austin Murray  2019-05-04              shot  unarmed   \n",
       "..    ...                      ...         ...               ...      ...   \n",
       "343  3825         Daniel A. Fuller  2018-07-05              shot  unarmed   \n",
       "344  5020              John Carras  2019-09-05              shot  unarmed   \n",
       "345  5713                Jose Soto  2020-04-02              shot  unarmed   \n",
       "346  1324   Abraham Mitchell Fryer  2016-02-26              shot  unarmed   \n",
       "347  1889             Jesse Beshaw  2016-09-16              shot  unarmed   \n",
       "\n",
       "      age gender      race             city state  signs_of_mental_illness  \\\n",
       "0    35.0      M  Hispanic            Pasco    WA                     True   \n",
       "1    20.0      M     White            Sumas    WA                     True   \n",
       "2    37.0      M    Native         Lakewood    WA                     True   \n",
       "3    24.0      M     White  Alderwood Manor    WA                    False   \n",
       "4    25.0      M     White          Spokane    WA                     True   \n",
       "..    ...    ...       ...              ...   ...                      ...   \n",
       "343  26.0      M     White     Devil's Lake    ND                    False   \n",
       "344  43.0      M     White    East Hartford    CT                    False   \n",
       "345  27.0      M  Hispanic       Manchester    CT                     True   \n",
       "346  35.0      M     White     Rapid Valley    SD                    False   \n",
       "347  29.0      M    Native         Winooski    VT                    False   \n",
       "\n",
       "    threat_level         flee  body_camera arms_category    State Name  \n",
       "0          other         Foot        False       Unarmed    Washington  \n",
       "1         attack  Not fleeing        False       Unarmed    Washington  \n",
       "2          other         Foot        False       Unarmed    Washington  \n",
       "3         attack          Car        False       Unarmed    Washington  \n",
       "4          other         Foot        False       Unarmed    Washington  \n",
       "..           ...          ...          ...           ...           ...  \n",
       "343       attack         Foot         True       Unarmed  North Dakota  \n",
       "344       attack  Not fleeing        False       Unarmed   Connecticut  \n",
       "345        other  Not fleeing        False       Unarmed   Connecticut  \n",
       "346       attack  Not fleeing        False       Unarmed  South Dakota  \n",
       "347        other         Foot         True       Unarmed       Vermont  \n",
       "\n",
       "[348 rows x 16 columns]"
      ]
     },
     "execution_count": 8,
     "metadata": {},
     "output_type": "execute_result"
    }
   ],
   "source": [
    "#Create dataframe of just unarmed \n",
    "unarmed_usshootings_df = usshootingsbystate_df[usshootingsbystate_df[\"arms_category\"] == \"Unarmed\"]\n",
    "unarmed_usshootings_df.reset_index(drop = True)"
   ]
  },
  {
   "cell_type": "code",
   "execution_count": 9,
   "metadata": {},
   "outputs": [
    {
     "data": {
      "text/html": [
       "<div>\n",
       "<style scoped>\n",
       "    .dataframe tbody tr th:only-of-type {\n",
       "        vertical-align: middle;\n",
       "    }\n",
       "\n",
       "    .dataframe tbody tr th {\n",
       "        vertical-align: top;\n",
       "    }\n",
       "\n",
       "    .dataframe thead th {\n",
       "        text-align: right;\n",
       "    }\n",
       "</style>\n",
       "<table border=\"1\" class=\"dataframe\">\n",
       "  <thead>\n",
       "    <tr style=\"text-align: right;\">\n",
       "      <th></th>\n",
       "      <th>id</th>\n",
       "      <th>Unarmed_%</th>\n",
       "    </tr>\n",
       "    <tr>\n",
       "      <th>race</th>\n",
       "      <th></th>\n",
       "      <th></th>\n",
       "    </tr>\n",
       "  </thead>\n",
       "  <tbody>\n",
       "    <tr>\n",
       "      <th>Asian</th>\n",
       "      <td>7</td>\n",
       "      <td>7.526882</td>\n",
       "    </tr>\n",
       "    <tr>\n",
       "      <th>Black</th>\n",
       "      <td>123</td>\n",
       "      <td>9.476117</td>\n",
       "    </tr>\n",
       "    <tr>\n",
       "      <th>Hispanic</th>\n",
       "      <td>63</td>\n",
       "      <td>6.984479</td>\n",
       "    </tr>\n",
       "    <tr>\n",
       "      <th>Native</th>\n",
       "      <td>4</td>\n",
       "      <td>5.128205</td>\n",
       "    </tr>\n",
       "    <tr>\n",
       "      <th>Other</th>\n",
       "      <td>5</td>\n",
       "      <td>10.416667</td>\n",
       "    </tr>\n",
       "    <tr>\n",
       "      <th>White</th>\n",
       "      <td>146</td>\n",
       "      <td>5.896607</td>\n",
       "    </tr>\n",
       "  </tbody>\n",
       "</table>\n",
       "</div>"
      ],
      "text/plain": [
       "           id  Unarmed_%\n",
       "race                    \n",
       "Asian       7   7.526882\n",
       "Black     123   9.476117\n",
       "Hispanic   63   6.984479\n",
       "Native      4   5.128205\n",
       "Other       5  10.416667\n",
       "White     146   5.896607"
      ]
     },
     "execution_count": 9,
     "metadata": {},
     "output_type": "execute_result"
    }
   ],
   "source": [
    "#Find number of unarmed police shooting deaths by race\n",
    "\n",
    "race_unarmed = unarmed_usshootings_df.groupby(['race'])\n",
    "race_unarmed_df = pd.DataFrame(race_unarmed[\"id\"].count())\n",
    "\n",
    "\n",
    "race_unarmed_df[\"Unarmed_%\"] = \"\"\n",
    "race_unarmed_df[\"Unarmed_%\"] = (race_unarmed_df[\"id\"] / race_df[\"id\"])*100\n",
    "race_unarmed_df"
   ]
  },
  {
   "cell_type": "code",
   "execution_count": 10,
   "metadata": {},
   "outputs": [
    {
     "name": "stdout",
     "output_type": "stream",
     "text": [
      "Critical Value = 11.070497693516351\n",
      "Power_divergenceResult(statistic=350.34482758620686, pvalue=1.4752417781523855e-73)\n",
      "Since the chi square value of 350.3 exceeds the critical value of 11.1, we conclude that the results are statistically significant.\n"
     ]
    }
   ],
   "source": [
    "# Add a column whose default values are the expected values\n",
    "race_unarmed_df[\"expected\"] = race_unarmed_df[\"id\"].sum()/6\n",
    "race_unarmed_df\n",
    "#Find critical value\n",
    "critical_value = stats.chi2.ppf(q = 0.95, df = 5)\n",
    "print(f\"Critical Value = {critical_value}\")\n",
    "# Run the chi square test with stats.chisquare()\n",
    "chi = stats.chisquare(race_unarmed_df[\"id\"], race_unarmed_df[\"expected\"])\n",
    "print(chi)\n",
    "print(f\"Since the chi square value of 350.3 exceeds the critical value of 11.1, we conclude that the results are statistically significant.\")"
   ]
  },
  {
   "cell_type": "code",
   "execution_count": 35,
   "metadata": {},
   "outputs": [
    {
     "data": {
      "image/png": "[encoded data removed]",
      "text/plain": [
       "<Figure size 360x216 with 1 Axes>"
      ]
     },
     "metadata": {
      "needs_background": "light"
     },
     "output_type": "display_data"
    }
   ],
   "source": [
    "#Remove count of unarmed deaths by race column\n",
    "race_unarmedpercent_df = race_unarmed_df.drop(columns = [\"id\", \"expected\"])\n",
    "race_unarmedpercent_df\n",
    "\n",
    "#Plot graph\n",
    "race_unarmedpercent_df.plot(kind=\"bar\", figsize=(5,3), title = \"% of Unarmed Police Shooting Deaths by Race of Victim\")\n",
    "plt.ylabel(\"% of Unarmed Police Shooting Deaths\")\n",
    "plt.xlabel(\"Race\")\n",
    "plt.savefig('Images/Unarmed_Shootings_Barchart.png',dpi=300, bbox_inches = \"tight\")"
   ]
  },
  {
   "cell_type": "markdown",
   "metadata": {},
   "source": [
    "Heatmaps of shootings data"
   ]
  },
  {
   "cell_type": "code",
   "execution_count": 12,
   "metadata": {},
   "outputs": [],
   "source": [
    "#US Shooting of Black victims\n",
    "blackvictim_shootings_df = usshootingsbystate_df[usshootingsbystate_df[\"race\"] == \"Black\"]\n",
    "blackvictimunarmed_shootings_df = unarmed_usshootings_df[unarmed_usshootings_df[\"race\"] == \"Black\"]"
   ]
  },
  {
   "cell_type": "code",
   "execution_count": 13,
   "metadata": {},
   "outputs": [],
   "source": [
    "#US Shooting of White victims\n",
    "whitevictim_shootings_df = usshootingsbystate_df[usshootingsbystate_df[\"race\"] == \"White\"]\n",
    "whitevictimunarmed_shootings_df = unarmed_usshootings_df[unarmed_usshootings_df[\"race\"] == \"White\"]"
   ]
  },
  {
   "cell_type": "code",
   "execution_count": 14,
   "metadata": {},
   "outputs": [],
   "source": [
    "#US Shooting of Hispanic victims\n",
    "hispanicvictim_shootings_df = usshootingsbystate_df[usshootingsbystate_df[\"race\"] == \"Hispanic\"]\n",
    "hispanicvictimunarmed_shootings_df = unarmed_usshootings_df[unarmed_usshootings_df[\"race\"] == \"Hispanic\"]"
   ]
  },
  {
   "cell_type": "code",
   "execution_count": 15,
   "metadata": {},
   "outputs": [
    {
     "data": {
      "text/html": [
       "<div>\n",
       "<style scoped>\n",
       "    .dataframe tbody tr th:only-of-type {\n",
       "        vertical-align: middle;\n",
       "    }\n",
       "\n",
       "    .dataframe tbody tr th {\n",
       "        vertical-align: top;\n",
       "    }\n",
       "\n",
       "    .dataframe thead th {\n",
       "        text-align: right;\n",
       "    }\n",
       "</style>\n",
       "<table border=\"1\" class=\"dataframe\">\n",
       "  <thead>\n",
       "    <tr style=\"text-align: right;\">\n",
       "      <th></th>\n",
       "      <th>State</th>\n",
       "      <th>Total_Shootings</th>\n",
       "      <th>Unarmed_Shootings_%</th>\n",
       "      <th>Black_Victims_%</th>\n",
       "      <th>Unarmed_Black_Victims_%</th>\n",
       "      <th>White_Victims_%</th>\n",
       "      <th>Unarmed_White_Victims_%</th>\n",
       "      <th>Hispanic_Victims_%</th>\n",
       "      <th>Unarmed_Hispanic_Victims_%</th>\n",
       "    </tr>\n",
       "  </thead>\n",
       "  <tbody>\n",
       "    <tr>\n",
       "      <th>0</th>\n",
       "      <td>Alabama</td>\n",
       "      <td>95.0</td>\n",
       "      <td>4.210526</td>\n",
       "      <td>32.631579</td>\n",
       "      <td>2.105263</td>\n",
       "      <td>66.315789</td>\n",
       "      <td>2.105263</td>\n",
       "      <td>1.052632</td>\n",
       "      <td>0.000000</td>\n",
       "    </tr>\n",
       "    <tr>\n",
       "      <th>1</th>\n",
       "      <td>Alaska</td>\n",
       "      <td>36.0</td>\n",
       "      <td>8.333333</td>\n",
       "      <td>8.333333</td>\n",
       "      <td>0.000000</td>\n",
       "      <td>61.111111</td>\n",
       "      <td>8.333333</td>\n",
       "      <td>0.000000</td>\n",
       "      <td>0.000000</td>\n",
       "    </tr>\n",
       "    <tr>\n",
       "      <th>2</th>\n",
       "      <td>Arizona</td>\n",
       "      <td>222.0</td>\n",
       "      <td>7.207207</td>\n",
       "      <td>7.657658</td>\n",
       "      <td>1.351351</td>\n",
       "      <td>49.099099</td>\n",
       "      <td>3.603604</td>\n",
       "      <td>37.387387</td>\n",
       "      <td>2.252252</td>\n",
       "    </tr>\n",
       "    <tr>\n",
       "      <th>3</th>\n",
       "      <td>Arkansas</td>\n",
       "      <td>73.0</td>\n",
       "      <td>4.109589</td>\n",
       "      <td>35.616438</td>\n",
       "      <td>2.739726</td>\n",
       "      <td>63.013699</td>\n",
       "      <td>1.369863</td>\n",
       "      <td>0.000000</td>\n",
       "      <td>0.000000</td>\n",
       "    </tr>\n",
       "    <tr>\n",
       "      <th>4</th>\n",
       "      <td>California</td>\n",
       "      <td>701.0</td>\n",
       "      <td>8.131241</td>\n",
       "      <td>17.403709</td>\n",
       "      <td>1.854494</td>\n",
       "      <td>31.526391</td>\n",
       "      <td>1.997147</td>\n",
       "      <td>45.078459</td>\n",
       "      <td>3.851641</td>\n",
       "    </tr>\n",
       "  </tbody>\n",
       "</table>\n",
       "</div>"
      ],
      "text/plain": [
       "        State  Total_Shootings  Unarmed_Shootings_%  Black_Victims_%  \\\n",
       "0     Alabama             95.0             4.210526        32.631579   \n",
       "1      Alaska             36.0             8.333333         8.333333   \n",
       "2     Arizona            222.0             7.207207         7.657658   \n",
       "3    Arkansas             73.0             4.109589        35.616438   \n",
       "4  California            701.0             8.131241        17.403709   \n",
       "\n",
       "   Unarmed_Black_Victims_%  White_Victims_%  Unarmed_White_Victims_%  \\\n",
       "0                 2.105263        66.315789                 2.105263   \n",
       "1                 0.000000        61.111111                 8.333333   \n",
       "2                 1.351351        49.099099                 3.603604   \n",
       "3                 2.739726        63.013699                 1.369863   \n",
       "4                 1.854494        31.526391                 1.997147   \n",
       "\n",
       "   Hispanic_Victims_%  Unarmed_Hispanic_Victims_%  \n",
       "0            1.052632                    0.000000  \n",
       "1            0.000000                    0.000000  \n",
       "2           37.387387                    2.252252  \n",
       "3            0.000000                    0.000000  \n",
       "4           45.078459                    3.851641  "
      ]
     },
     "execution_count": 15,
     "metadata": {},
     "output_type": "execute_result"
    }
   ],
   "source": [
    "#Create dataframe of shooting data grouped by state\n",
    "\n",
    "totalstateshootings = usshootingsbystate_df.groupby(['State Name'])[\"id\"].count()\n",
    "unarmedstateshootings = unarmed_usshootings_df.groupby(['State Name'])[\"id\"].count()\n",
    "totalstateblackshootings = blackvictim_shootings_df.groupby(['State Name'])[\"id\"].count()\n",
    "totalstateblackunarmedshootings = blackvictimunarmed_shootings_df.groupby(['State Name'])[\"id\"].count()\n",
    "totalstatewhiteshootings = whitevictim_shootings_df.groupby(['State Name'])[\"id\"].count()\n",
    "totalstatewhiteunarmedshootings = whitevictimunarmed_shootings_df.groupby(['State Name'])[\"id\"].count()\n",
    "totalstatehispanicshootings = hispanicvictim_shootings_df.groupby(['State Name'])[\"id\"].count()\n",
    "totalstatehispanicunarmedshootings = hispanicvictimunarmed_shootings_df.groupby(['State Name'])[\"id\"].count()\n",
    "\n",
    "state_shooting_df = pd.DataFrame({\"Total_Shootings\" : totalstateshootings.astype(float), \"Unarmed_Shootings_%\" : (unarmedstateshootings/totalstateshootings)*100, \n",
    "              \"Black_Victims_%\" : (totalstateblackshootings/totalstateshootings)*100, \"Unarmed_Black_Victims_%\" : (totalstateblackunarmedshootings/totalstateshootings)*100,\n",
    "              \"White_Victims_%\" : (totalstatewhiteshootings/totalstateshootings)*100, \"Unarmed_White_Victims_%\" : (totalstatewhiteunarmedshootings/totalstateshootings)*100,\n",
    "              \"Hispanic_Victims_%\" : (totalstatehispanicshootings/totalstateshootings)*100, \"Unarmed_Hispanic_Victims_%\" : (totalstatehispanicunarmedshootings/totalstateshootings)*100}).fillna(0).reset_index().rename(columns={\"State Name\": \"State\"})\n",
    "state_shooting_df.head()"
   ]
  },
  {
   "cell_type": "code",
   "execution_count": 16,
   "metadata": {},
   "outputs": [
    {
     "data": {
      "text/html": [
       "<div>\n",
       "<style scoped>\n",
       "    .dataframe tbody tr th:only-of-type {\n",
       "        vertical-align: middle;\n",
       "    }\n",
       "\n",
       "    .dataframe tbody tr th {\n",
       "        vertical-align: top;\n",
       "    }\n",
       "\n",
       "    .dataframe thead th {\n",
       "        text-align: right;\n",
       "    }\n",
       "</style>\n",
       "<table border=\"1\" class=\"dataframe\">\n",
       "  <thead>\n",
       "    <tr style=\"text-align: right;\">\n",
       "      <th></th>\n",
       "      <th>State</th>\n",
       "      <th>Total_Shootings</th>\n",
       "      <th>Unarmed_Shootings_%</th>\n",
       "      <th>Black_Victims_%</th>\n",
       "      <th>Unarmed_Black_Victims_%</th>\n",
       "      <th>White_Victims_%</th>\n",
       "      <th>Unarmed_White_Victims_%</th>\n",
       "      <th>Hispanic_Victims_%</th>\n",
       "      <th>Unarmed_Hispanic_Victims_%</th>\n",
       "      <th>Latitude</th>\n",
       "      <th>Longitude</th>\n",
       "    </tr>\n",
       "  </thead>\n",
       "  <tbody>\n",
       "    <tr>\n",
       "      <th>0</th>\n",
       "      <td>Alabama</td>\n",
       "      <td>95.0</td>\n",
       "      <td>4.210526</td>\n",
       "      <td>32.631579</td>\n",
       "      <td>2.105263</td>\n",
       "      <td>66.315789</td>\n",
       "      <td>2.105263</td>\n",
       "      <td>1.052632</td>\n",
       "      <td>0.000000</td>\n",
       "      <td>32.7794</td>\n",
       "      <td>-86.8287</td>\n",
       "    </tr>\n",
       "    <tr>\n",
       "      <th>1</th>\n",
       "      <td>Alaska</td>\n",
       "      <td>36.0</td>\n",
       "      <td>8.333333</td>\n",
       "      <td>8.333333</td>\n",
       "      <td>0.000000</td>\n",
       "      <td>61.111111</td>\n",
       "      <td>8.333333</td>\n",
       "      <td>0.000000</td>\n",
       "      <td>0.000000</td>\n",
       "      <td>64.0685</td>\n",
       "      <td>-152.2782</td>\n",
       "    </tr>\n",
       "    <tr>\n",
       "      <th>2</th>\n",
       "      <td>Arizona</td>\n",
       "      <td>222.0</td>\n",
       "      <td>7.207207</td>\n",
       "      <td>7.657658</td>\n",
       "      <td>1.351351</td>\n",
       "      <td>49.099099</td>\n",
       "      <td>3.603604</td>\n",
       "      <td>37.387387</td>\n",
       "      <td>2.252252</td>\n",
       "      <td>34.2744</td>\n",
       "      <td>-111.6602</td>\n",
       "    </tr>\n",
       "    <tr>\n",
       "      <th>3</th>\n",
       "      <td>Arkansas</td>\n",
       "      <td>73.0</td>\n",
       "      <td>4.109589</td>\n",
       "      <td>35.616438</td>\n",
       "      <td>2.739726</td>\n",
       "      <td>63.013699</td>\n",
       "      <td>1.369863</td>\n",
       "      <td>0.000000</td>\n",
       "      <td>0.000000</td>\n",
       "      <td>34.8938</td>\n",
       "      <td>-92.4426</td>\n",
       "    </tr>\n",
       "    <tr>\n",
       "      <th>4</th>\n",
       "      <td>California</td>\n",
       "      <td>701.0</td>\n",
       "      <td>8.131241</td>\n",
       "      <td>17.403709</td>\n",
       "      <td>1.854494</td>\n",
       "      <td>31.526391</td>\n",
       "      <td>1.997147</td>\n",
       "      <td>45.078459</td>\n",
       "      <td>3.851641</td>\n",
       "      <td>37.1841</td>\n",
       "      <td>-119.4696</td>\n",
       "    </tr>\n",
       "  </tbody>\n",
       "</table>\n",
       "</div>"
      ],
      "text/plain": [
       "        State  Total_Shootings  Unarmed_Shootings_%  Black_Victims_%  \\\n",
       "0     Alabama             95.0             4.210526        32.631579   \n",
       "1      Alaska             36.0             8.333333         8.333333   \n",
       "2     Arizona            222.0             7.207207         7.657658   \n",
       "3    Arkansas             73.0             4.109589        35.616438   \n",
       "4  California            701.0             8.131241        17.403709   \n",
       "\n",
       "   Unarmed_Black_Victims_%  White_Victims_%  Unarmed_White_Victims_%  \\\n",
       "0                 2.105263        66.315789                 2.105263   \n",
       "1                 0.000000        61.111111                 8.333333   \n",
       "2                 1.351351        49.099099                 3.603604   \n",
       "3                 2.739726        63.013699                 1.369863   \n",
       "4                 1.854494        31.526391                 1.997147   \n",
       "\n",
       "   Hispanic_Victims_%  Unarmed_Hispanic_Victims_%  Latitude  Longitude  \n",
       "0            1.052632                    0.000000   32.7794   -86.8287  \n",
       "1            0.000000                    0.000000   64.0685  -152.2782  \n",
       "2           37.387387                    2.252252   34.2744  -111.6602  \n",
       "3            0.000000                    0.000000   34.8938   -92.4426  \n",
       "4           45.078459                    3.851641   37.1841  -119.4696  "
      ]
     },
     "execution_count": 16,
     "metadata": {},
     "output_type": "execute_result"
    }
   ],
   "source": [
    "#Merge centroid data to get latitude and longtitude of states\n",
    "centroid_df = pd.read_csv(\"Resources/state_centroids.csv\")\n",
    "statecentroid_shooting_df = pd.merge(state_shooting_df, centroid_df, how=\"left\", on=\"State\")\n",
    "\n",
    "statecentroid_shooting_df.to_csv('Resources/shootingdata_bystate.csv', index=False)\n",
    "statecentroid_shooting_df.head()"
   ]
  },
  {
   "cell_type": "code",
   "execution_count": 17,
   "metadata": {},
   "outputs": [
    {
     "data": {
      "text/html": [
       "<div>\n",
       "<style scoped>\n",
       "    .dataframe tbody tr th:only-of-type {\n",
       "        vertical-align: middle;\n",
       "    }\n",
       "\n",
       "    .dataframe tbody tr th {\n",
       "        vertical-align: top;\n",
       "    }\n",
       "\n",
       "    .dataframe thead th {\n",
       "        text-align: right;\n",
       "    }\n",
       "</style>\n",
       "<table border=\"1\" class=\"dataframe\">\n",
       "  <thead>\n",
       "    <tr style=\"text-align: right;\">\n",
       "      <th></th>\n",
       "      <th>State</th>\n",
       "      <th>Total_Shootings</th>\n",
       "      <th>Unarmed_Shootings_%</th>\n",
       "      <th>Black_Victims_%</th>\n",
       "      <th>Unarmed_Black_Victims_%</th>\n",
       "      <th>White_Victims_%</th>\n",
       "      <th>Unarmed_White_Victims_%</th>\n",
       "      <th>Hispanic_Victims_%</th>\n",
       "      <th>Unarmed_Hispanic_Victims_%</th>\n",
       "      <th>Latitude</th>\n",
       "      <th>Longitude</th>\n",
       "    </tr>\n",
       "  </thead>\n",
       "  <tbody>\n",
       "    <tr>\n",
       "      <th>0</th>\n",
       "      <td>Alabama</td>\n",
       "      <td>13.925395</td>\n",
       "      <td>23.926316</td>\n",
       "      <td>35.997368</td>\n",
       "      <td>27.573684</td>\n",
       "      <td>63.873684</td>\n",
       "      <td>12.463158</td>\n",
       "      <td>2.514309</td>\n",
       "      <td>1.000000</td>\n",
       "      <td>32.7794</td>\n",
       "      <td>-86.8287</td>\n",
       "    </tr>\n",
       "    <tr>\n",
       "      <th>1</th>\n",
       "      <td>Alaska</td>\n",
       "      <td>5.545194</td>\n",
       "      <td>46.375000</td>\n",
       "      <td>9.937500</td>\n",
       "      <td>1.000000</td>\n",
       "      <td>58.291667</td>\n",
       "      <td>46.375000</td>\n",
       "      <td>1.000000</td>\n",
       "      <td>1.000000</td>\n",
       "      <td>64.0685</td>\n",
       "      <td>-152.2782</td>\n",
       "    </tr>\n",
       "    <tr>\n",
       "      <th>2</th>\n",
       "      <td>Arizona</td>\n",
       "      <td>31.964132</td>\n",
       "      <td>40.243243</td>\n",
       "      <td>9.212838</td>\n",
       "      <td>18.057432</td>\n",
       "      <td>45.408784</td>\n",
       "      <td>20.621622</td>\n",
       "      <td>54.785262</td>\n",
       "      <td>29.986486</td>\n",
       "      <td>34.2744</td>\n",
       "      <td>-111.6602</td>\n",
       "    </tr>\n",
       "    <tr>\n",
       "      <th>3</th>\n",
       "      <td>Arkansas</td>\n",
       "      <td>10.800574</td>\n",
       "      <td>23.376712</td>\n",
       "      <td>39.198630</td>\n",
       "      <td>35.582192</td>\n",
       "      <td>60.332192</td>\n",
       "      <td>8.458904</td>\n",
       "      <td>1.000000</td>\n",
       "      <td>1.000000</td>\n",
       "      <td>34.8938</td>\n",
       "      <td>-92.4426</td>\n",
       "    </tr>\n",
       "    <tr>\n",
       "      <th>4</th>\n",
       "      <td>California</td>\n",
       "      <td>100.000000</td>\n",
       "      <td>45.274608</td>\n",
       "      <td>19.665478</td>\n",
       "      <td>24.408345</td>\n",
       "      <td>26.562054</td>\n",
       "      <td>11.874465</td>\n",
       "      <td>65.849590</td>\n",
       "      <td>50.570613</td>\n",
       "      <td>37.1841</td>\n",
       "      <td>-119.4696</td>\n",
       "    </tr>\n",
       "  </tbody>\n",
       "</table>\n",
       "</div>"
      ],
      "text/plain": [
       "        State  Total_Shootings  Unarmed_Shootings_%  Black_Victims_%  \\\n",
       "0     Alabama        13.925395            23.926316        35.997368   \n",
       "1      Alaska         5.545194            46.375000         9.937500   \n",
       "2     Arizona        31.964132            40.243243         9.212838   \n",
       "3    Arkansas        10.800574            23.376712        39.198630   \n",
       "4  California       100.000000            45.274608        19.665478   \n",
       "\n",
       "   Unarmed_Black_Victims_%  White_Victims_%  Unarmed_White_Victims_%  \\\n",
       "0                27.573684        63.873684                12.463158   \n",
       "1                 1.000000        58.291667                46.375000   \n",
       "2                18.057432        45.408784                20.621622   \n",
       "3                35.582192        60.332192                 8.458904   \n",
       "4                24.408345        26.562054                11.874465   \n",
       "\n",
       "   Hispanic_Victims_%  Unarmed_Hispanic_Victims_%  Latitude  Longitude  \n",
       "0            2.514309                    1.000000   32.7794   -86.8287  \n",
       "1            1.000000                    1.000000   64.0685  -152.2782  \n",
       "2           54.785262                   29.986486   34.2744  -111.6602  \n",
       "3            1.000000                    1.000000   34.8938   -92.4426  \n",
       "4           65.849590                   50.570613   37.1841  -119.4696  "
      ]
     },
     "execution_count": 17,
     "metadata": {},
     "output_type": "execute_result"
    }
   ],
   "source": [
    "#Normalise data in statecentroid_shooting_df\n",
    "statecentroid_shootingnormalised_df = statecentroid_shooting_df.copy()\n",
    "\n",
    "scaler=MinMaxScaler(feature_range=(0.01,1))\n",
    "statecentroid_shootingnormalised_df[[\"Total_Shootings\", \"Unarmed_Shootings_%\", \"Black_Victims_%\", \"Unarmed_Black_Victims_%\", \"White_Victims_%\", \"Unarmed_White_Victims_%\", \"Hispanic_Victims_%\", \"Unarmed_Hispanic_Victims_%\"]]=(scaler.fit_transform(statecentroid_shootingnormalised_df[[\"Total_Shootings\", \"Unarmed_Shootings_%\", \"Black_Victims_%\", \"Unarmed_Black_Victims_%\", \"White_Victims_%\", \"Unarmed_White_Victims_%\", \"Hispanic_Victims_%\", \"Unarmed_Hispanic_Victims_%\"]])*100)\n",
    "\n",
    "statecentroid_shootingnormalised_df.to_csv('Resources/normalised_shootingdata_bystate.csv', index=False)\n",
    "statecentroid_shootingnormalised_df.head()"
   ]
  },
  {
   "cell_type": "code",
   "execution_count": 18,
   "metadata": {},
   "outputs": [
    {
     "data": {
      "application/vnd.jupyter.widget-view+json": {
       "model_id": "593a4cb9cf504cf985c700d43e7e73b2",
       "version_major": 2,
       "version_minor": 0
      },
      "text/plain": [
       "Figure(layout=FigureLayout(height='420px'))"
      ]
     },
     "metadata": {},
     "output_type": "display_data"
    }
   ],
   "source": [
    "#Create heatmap of total shootings\n",
    "locations = statecentroid_shootingnormalised_df[[\"Latitude\", \"Longitude\"]].astype(float)\n",
    "total_shootings = statecentroid_shootingnormalised_df[\"Total_Shootings\"].astype(float)\n",
    "\n",
    "fig = gmaps.figure()\n",
    "heat_layer = gmaps.heatmap_layer(locations, weights=total_shootings, \n",
    "                                 dissipating=False, max_intensity=50,\n",
    "                                 point_radius = 3)\n",
    "fig.add_layer(heat_layer)\n",
    "fig"
   ]
  },
  {
   "cell_type": "code",
   "execution_count": 19,
   "metadata": {},
   "outputs": [
    {
     "data": {
      "application/vnd.jupyter.widget-view+json": {
       "model_id": "089e133338e14ea7b0110e222dbe820b",
       "version_major": 2,
       "version_minor": 0
      },
      "text/plain": [
       "Figure(layout=FigureLayout(height='420px'))"
      ]
     },
     "metadata": {},
     "output_type": "display_data"
    }
   ],
   "source": [
    "#Create heatmap of unarmed shootings\n",
    "unarmed_shootings = statecentroid_shootingnormalised_df[\"Unarmed_Shootings_%\"].astype(float)\n",
    "fig = gmaps.figure()\n",
    "heat_layer = gmaps.heatmap_layer(locations, weights=unarmed_shootings, \n",
    "                                 dissipating=False, max_intensity=75,\n",
    "                                 point_radius = 3)\n",
    "fig.add_layer(heat_layer)\n",
    "fig"
   ]
  },
  {
   "cell_type": "code",
   "execution_count": 20,
   "metadata": {},
   "outputs": [
    {
     "data": {
      "application/vnd.jupyter.widget-view+json": {
       "model_id": "c468086bcde34328ac6f2c2294d90394",
       "version_major": 2,
       "version_minor": 0
      },
      "text/plain": [
       "Figure(layout=FigureLayout(height='420px'))"
      ]
     },
     "metadata": {},
     "output_type": "display_data"
    }
   ],
   "source": [
    "#Create heatmap of black victim shootings\n",
    "locations = statecentroid_shootingnormalised_df[[\"Latitude\", \"Longitude\"]].astype(float)\n",
    "blackvictim_shootings = statecentroid_shootingnormalised_df[\"Black_Victims_%\"].astype(float)\n",
    "fig = gmaps.figure()\n",
    "heat_layer = gmaps.heatmap_layer(locations, weights=blackvictim_shootings, \n",
    "                                 dissipating=False, max_intensity=75,\n",
    "                                 point_radius = 3)\n",
    "fig.add_layer(heat_layer)\n",
    "fig"
   ]
  },
  {
   "cell_type": "code",
   "execution_count": 21,
   "metadata": {},
   "outputs": [
    {
     "data": {
      "application/vnd.jupyter.widget-view+json": {
       "model_id": "ad0747fe17904ced9d888cb849a0036b",
       "version_major": 2,
       "version_minor": 0
      },
      "text/plain": [
       "Figure(layout=FigureLayout(height='420px'))"
      ]
     },
     "metadata": {},
     "output_type": "display_data"
    }
   ],
   "source": [
    "#Create heatmap of black unarmed victim shootings\n",
    "unarmedblackvictim_shootings = statecentroid_shootingnormalised_df[\"Unarmed_Black_Victims_%\"].astype(float)\n",
    "fig = gmaps.figure()\n",
    "heat_layer = gmaps.heatmap_layer(locations, weights=unarmedblackvictim_shootings, \n",
    "                                 dissipating=False, max_intensity=75,\n",
    "                                 point_radius = 3)\n",
    "fig.add_layer(heat_layer)\n",
    "fig"
   ]
  },
  {
   "cell_type": "code",
   "execution_count": 22,
   "metadata": {},
   "outputs": [
    {
     "data": {
      "application/vnd.jupyter.widget-view+json": {
       "model_id": "41748e746934460ebe36075ebe819dd2",
       "version_major": 2,
       "version_minor": 0
      },
      "text/plain": [
       "Figure(layout=FigureLayout(height='420px'))"
      ]
     },
     "metadata": {},
     "output_type": "display_data"
    }
   ],
   "source": [
    "#Create heatmap of white victim shootings\n",
    "whitevictim_shootings = statecentroid_shootingnormalised_df[\"White_Victims_%\"].astype(float)\n",
    "fig = gmaps.figure()\n",
    "heat_layer = gmaps.heatmap_layer(locations, weights=whitevictim_shootings, \n",
    "                                 dissipating=False, max_intensity=75,\n",
    "                                 point_radius = 3)\n",
    "fig.add_layer(heat_layer)\n",
    "fig"
   ]
  },
  {
   "cell_type": "code",
   "execution_count": 23,
   "metadata": {},
   "outputs": [
    {
     "data": {
      "application/vnd.jupyter.widget-view+json": {
       "model_id": "46cd72bf583d4d29b5390a5627189883",
       "version_major": 2,
       "version_minor": 0
      },
      "text/plain": [
       "Figure(layout=FigureLayout(height='420px'))"
      ]
     },
     "metadata": {},
     "output_type": "display_data"
    }
   ],
   "source": [
    "#Create heatmap of white unarmed victim shootings\n",
    "unarmedwhitevictim_shootings = statecentroid_shootingnormalised_df[\"Unarmed_White_Victims_%\"].astype(float)\n",
    "fig = gmaps.figure()\n",
    "heat_layer = gmaps.heatmap_layer(locations, weights=unarmedwhitevictim_shootings, \n",
    "                                 dissipating=False, max_intensity=75,\n",
    "                                 point_radius = 3)\n",
    "fig.add_layer(heat_layer)\n",
    "fig"
   ]
  },
  {
   "cell_type": "code",
   "execution_count": 24,
   "metadata": {},
   "outputs": [
    {
     "data": {
      "application/vnd.jupyter.widget-view+json": {
       "model_id": "fb6b0f88d5c7426ab2145ec42db7edf4",
       "version_major": 2,
       "version_minor": 0
      },
      "text/plain": [
       "Figure(layout=FigureLayout(height='420px'))"
      ]
     },
     "metadata": {},
     "output_type": "display_data"
    }
   ],
   "source": [
    "#Create heatmap of hispanic victim shootings\n",
    "hispanicvictim_shootings = statecentroid_shootingnormalised_df[\"Hispanic_Victims_%\"].astype(float)\n",
    "fig = gmaps.figure()\n",
    "heat_layer = gmaps.heatmap_layer(locations, weights=hispanicvictim_shootings, \n",
    "                                 dissipating=False, max_intensity=75,\n",
    "                                 point_radius = 3)\n",
    "fig.add_layer(heat_layer)\n",
    "fig"
   ]
  },
  {
   "cell_type": "code",
   "execution_count": 25,
   "metadata": {},
   "outputs": [
    {
     "data": {
      "application/vnd.jupyter.widget-view+json": {
       "model_id": "9ba6a84f1b2847ce91068f657676eef0",
       "version_major": 2,
       "version_minor": 0
      },
      "text/plain": [
       "Figure(layout=FigureLayout(height='420px'))"
      ]
     },
     "metadata": {},
     "output_type": "display_data"
    }
   ],
   "source": [
    "#Create heatmap of hispanic unarmed victim shootings\n",
    "unarmedhispanicvictim_shootings = statecentroid_shootingnormalised_df[\"Unarmed_Hispanic_Victims_%\"].astype(float)\n",
    "fig = gmaps.figure()\n",
    "heat_layer = gmaps.heatmap_layer(locations, weights=unarmedhispanicvictim_shootings, \n",
    "                                 dissipating=False, max_intensity=75,\n",
    "                                 point_radius = 3)\n",
    "fig.add_layer(heat_layer)\n",
    "fig"
   ]
  },
  {
   "cell_type": "markdown",
   "metadata": {},
   "source": [
    "Create dataframe with census data"
   ]
  },
  {
   "cell_type": "code",
   "execution_count": 26,
   "metadata": {},
   "outputs": [],
   "source": [
    "# Run Census Search to retrieve data on all states\n",
    "# Note the addition of \"B23025_005E\" for unemployment count\n",
    "census_data = c.acs5.get((\"NAME\", \"B02001_003E\", \"B01003_001E\", \"B02001_002E\", \"B03001_003E\",\n",
    "                          \"B17001_002E\",\"B17001B_002E\", \"B17001A_002E\",\"B17001I_002E\",\n",
    "                          \"B23025_005E\"), {'for': 'state:*'})\n",
    "\n",
    "# Convert to DataFrame\n",
    "census_pd = pd.DataFrame(census_data)\n",
    "\n",
    "# Column Reordering\n",
    "census_pd = census_pd.rename(columns={\"B01003_001E\": \"Population\",\n",
    "                                      \"B02001_003E\": \"Black_Population\",\n",
    "                                      \"B02001_002E\": \"White_Population\",\n",
    "                                      \"B03001_003E\": \"Hispanic_Population\",\n",
    "                                      \"B17001_002E\": \"Poverty_Count\",\n",
    "                                      \"B17001B_002E\" : \"Black_Poverty_Count\",\n",
    "                                      \"B17001A_002E\" : \"White_Poverty_Count\",\n",
    "                                      \"B17001I_002E\" : \"Hispanic_Poverty_Count\",\n",
    "                                      \"B23025_005E\": \"Unemployment_Count\",\n",
    "                                      \"NAME\": \"Name\", \"state\": \"State\"})\n",
    "\n",
    "# Add in Poverty Rate (Poverty Count / Population)\n",
    "census_pd[\"Poverty_Rate\"] = 100 * (census_pd[\"Poverty_Count\"].astype(int) / census_pd[\"Population\"].astype(int))\n",
    "\n",
    "# Add in Employment Rate (Employment Count / Population)\n",
    "census_pd[\"Unemployment_Rate\"] = 100 * (census_pd[\"Unemployment_Count\"].astype(int) / census_pd[\"Population\"].astype(int))\n",
    "\n",
    "# Add in Black Population percentage (Black Population / Population)\n",
    "census_pd[\"Black_Population_Percentage\"] = 100 * (census_pd[\"Black_Population\"].astype(int) / census_pd[\"Population\"].astype(int))\n",
    "\n",
    "# Add in White Population percentage (White Population / Population)\n",
    "census_pd[\"White_Population_Percentage\"] = 100 * (census_pd[\"White_Population\"].astype(int) / census_pd[\"Population\"].astype(int))\n",
    "\n",
    "# Add in Hispanic Population percentage (Hispanic Population / Population)\n",
    "census_pd[\"Hispanic_Population_Percentage\"] = 100 * (census_pd[\"Hispanic_Population\"].astype(int) / census_pd[\"Population\"].astype(int))\n",
    "\n",
    "# Add in Poverty rate of black people (Black Poverty Rate / Black Population)\n",
    "census_pd[\"Black_Poverty_Rate\"] = 100 * (census_pd[\"Black_Poverty_Count\"].astype(int) / census_pd[\"Black_Population\"].astype(int))\n",
    "\n",
    "# Add in Poverty rate of white people (White Poverty Rate / White Population)\n",
    "census_pd[\"White_Poverty_Rate\"] = 100 * (census_pd[\"White_Poverty_Count\"].astype(int) / census_pd[\"White_Population\"].astype(int))\n",
    "\n",
    "# Add in Poverty rate of Hispanic people (Hispanic Poverty Rate / Hispanic Population)\n",
    "census_pd[\"Hispanic_Poverty_Rate\"] = 100 * (census_pd[\"Hispanic_Poverty_Count\"].astype(int) / census_pd[\"Hispanic_Population\"].astype(int))\n",
    "\n",
    "# Final DataFrame\n",
    "census_pd = census_pd[[\"State\", \"Name\", \"Population\", \"Black_Population_Percentage\", \"White_Population_Percentage\", \"Hispanic_Population_Percentage\", \"Poverty_Rate\", \"Unemployment_Rate\", \"Black_Poverty_Rate\" , \"White_Poverty_Rate\", \"Hispanic_Poverty_Rate\"]]\n",
    "census_pd = census_pd.drop(columns=[\"State\"]).rename(columns={\"Name\": \"State\"}).sort_values(by=[\"State\"]).reset_index(drop = True)\n",
    "census_pd\n",
    "census_pd.to_csv('Resources/Census_data.csv', index=False)"
   ]
  },
  {
   "cell_type": "code",
   "execution_count": 27,
   "metadata": {},
   "outputs": [
    {
     "data": {
      "text/html": [
       "<div>\n",
       "<style scoped>\n",
       "    .dataframe tbody tr th:only-of-type {\n",
       "        vertical-align: middle;\n",
       "    }\n",
       "\n",
       "    .dataframe tbody tr th {\n",
       "        vertical-align: top;\n",
       "    }\n",
       "\n",
       "    .dataframe thead th {\n",
       "        text-align: right;\n",
       "    }\n",
       "</style>\n",
       "<table border=\"1\" class=\"dataframe\">\n",
       "  <thead>\n",
       "    <tr style=\"text-align: right;\">\n",
       "      <th></th>\n",
       "      <th>State</th>\n",
       "      <th>Total_Shootings</th>\n",
       "      <th>Unarmed_Shootings_%</th>\n",
       "      <th>Black_Victims_%</th>\n",
       "      <th>Unarmed_Black_Victims_%</th>\n",
       "      <th>White_Victims_%</th>\n",
       "      <th>Unarmed_White_Victims_%</th>\n",
       "      <th>Hispanic_Victims_%</th>\n",
       "      <th>Unarmed_Hispanic_Victims_%</th>\n",
       "      <th>Latitude</th>\n",
       "      <th>Longitude</th>\n",
       "      <th>Population</th>\n",
       "      <th>Black_Population_Percentage</th>\n",
       "      <th>White_Population_Percentage</th>\n",
       "      <th>Hispanic_Population_Percentage</th>\n",
       "      <th>Poverty_Rate</th>\n",
       "      <th>Unemployment_Rate</th>\n",
       "      <th>Black_Poverty_Rate</th>\n",
       "      <th>White_Poverty_Rate</th>\n",
       "      <th>Hispanic_Poverty_Rate</th>\n",
       "    </tr>\n",
       "  </thead>\n",
       "  <tbody>\n",
       "    <tr>\n",
       "      <th>0</th>\n",
       "      <td>Alabama</td>\n",
       "      <td>95.0</td>\n",
       "      <td>4.210526</td>\n",
       "      <td>32.631579</td>\n",
       "      <td>2.105263</td>\n",
       "      <td>66.315789</td>\n",
       "      <td>2.105263</td>\n",
       "      <td>1.052632</td>\n",
       "      <td>0.000000</td>\n",
       "      <td>32.7794</td>\n",
       "      <td>-86.8287</td>\n",
       "      <td>4864680.0</td>\n",
       "      <td>26.583167</td>\n",
       "      <td>68.194681</td>\n",
       "      <td>4.175938</td>\n",
       "      <td>17.049426</td>\n",
       "      <td>3.040241</td>\n",
       "      <td>27.374948</td>\n",
       "      <td>12.568739</td>\n",
       "      <td>31.446841</td>\n",
       "    </tr>\n",
       "    <tr>\n",
       "      <th>1</th>\n",
       "      <td>Alaska</td>\n",
       "      <td>36.0</td>\n",
       "      <td>8.333333</td>\n",
       "      <td>8.333333</td>\n",
       "      <td>0.000000</td>\n",
       "      <td>61.111111</td>\n",
       "      <td>8.333333</td>\n",
       "      <td>0.000000</td>\n",
       "      <td>0.000000</td>\n",
       "      <td>64.0685</td>\n",
       "      <td>-152.2782</td>\n",
       "      <td>738516.0</td>\n",
       "      <td>3.267228</td>\n",
       "      <td>64.837322</td>\n",
       "      <td>6.930926</td>\n",
       "      <td>10.543441</td>\n",
       "      <td>3.800459</td>\n",
       "      <td>16.229433</td>\n",
       "      <td>6.974442</td>\n",
       "      <td>10.641582</td>\n",
       "    </tr>\n",
       "    <tr>\n",
       "      <th>2</th>\n",
       "      <td>Arizona</td>\n",
       "      <td>222.0</td>\n",
       "      <td>7.207207</td>\n",
       "      <td>7.657658</td>\n",
       "      <td>1.351351</td>\n",
       "      <td>49.099099</td>\n",
       "      <td>3.603604</td>\n",
       "      <td>37.387387</td>\n",
       "      <td>2.252252</td>\n",
       "      <td>34.2744</td>\n",
       "      <td>-111.6602</td>\n",
       "      <td>6946685.0</td>\n",
       "      <td>4.394312</td>\n",
       "      <td>77.218717</td>\n",
       "      <td>31.141645</td>\n",
       "      <td>15.722492</td>\n",
       "      <td>3.026105</td>\n",
       "      <td>20.671954</td>\n",
       "      <td>13.702511</td>\n",
       "      <td>22.698344</td>\n",
       "    </tr>\n",
       "    <tr>\n",
       "      <th>3</th>\n",
       "      <td>Arkansas</td>\n",
       "      <td>73.0</td>\n",
       "      <td>4.109589</td>\n",
       "      <td>35.616438</td>\n",
       "      <td>2.739726</td>\n",
       "      <td>63.013699</td>\n",
       "      <td>1.369863</td>\n",
       "      <td>0.000000</td>\n",
       "      <td>0.000000</td>\n",
       "      <td>34.8938</td>\n",
       "      <td>-92.4426</td>\n",
       "      <td>2990671.0</td>\n",
       "      <td>15.413598</td>\n",
       "      <td>77.001917</td>\n",
       "      <td>7.324510</td>\n",
       "      <td>17.064298</td>\n",
       "      <td>2.533679</td>\n",
       "      <td>29.064147</td>\n",
       "      <td>14.059909</td>\n",
       "      <td>27.013221</td>\n",
       "    </tr>\n",
       "    <tr>\n",
       "      <th>4</th>\n",
       "      <td>California</td>\n",
       "      <td>701.0</td>\n",
       "      <td>8.131241</td>\n",
       "      <td>17.403709</td>\n",
       "      <td>1.854494</td>\n",
       "      <td>31.526391</td>\n",
       "      <td>1.997147</td>\n",
       "      <td>45.078459</td>\n",
       "      <td>3.851641</td>\n",
       "      <td>37.1841</td>\n",
       "      <td>-119.4696</td>\n",
       "      <td>39148760.0</td>\n",
       "      <td>5.792968</td>\n",
       "      <td>60.101694</td>\n",
       "      <td>38.881377</td>\n",
       "      <td>14.016130</td>\n",
       "      <td>3.375591</td>\n",
       "      <td>20.963942</td>\n",
       "      <td>12.800800</td>\n",
       "      <td>18.876080</td>\n",
       "    </tr>\n",
       "  </tbody>\n",
       "</table>\n",
       "</div>"
      ],
      "text/plain": [
       "        State  Total_Shootings  Unarmed_Shootings_%  Black_Victims_%  \\\n",
       "0     Alabama             95.0             4.210526        32.631579   \n",
       "1      Alaska             36.0             8.333333         8.333333   \n",
       "2     Arizona            222.0             7.207207         7.657658   \n",
       "3    Arkansas             73.0             4.109589        35.616438   \n",
       "4  California            701.0             8.131241        17.403709   \n",
       "\n",
       "   Unarmed_Black_Victims_%  White_Victims_%  Unarmed_White_Victims_%  \\\n",
       "0                 2.105263        66.315789                 2.105263   \n",
       "1                 0.000000        61.111111                 8.333333   \n",
       "2                 1.351351        49.099099                 3.603604   \n",
       "3                 2.739726        63.013699                 1.369863   \n",
       "4                 1.854494        31.526391                 1.997147   \n",
       "\n",
       "   Hispanic_Victims_%  Unarmed_Hispanic_Victims_%  Latitude  Longitude  \\\n",
       "0            1.052632                    0.000000   32.7794   -86.8287   \n",
       "1            0.000000                    0.000000   64.0685  -152.2782   \n",
       "2           37.387387                    2.252252   34.2744  -111.6602   \n",
       "3            0.000000                    0.000000   34.8938   -92.4426   \n",
       "4           45.078459                    3.851641   37.1841  -119.4696   \n",
       "\n",
       "   Population  Black_Population_Percentage  White_Population_Percentage  \\\n",
       "0   4864680.0                    26.583167                    68.194681   \n",
       "1    738516.0                     3.267228                    64.837322   \n",
       "2   6946685.0                     4.394312                    77.218717   \n",
       "3   2990671.0                    15.413598                    77.001917   \n",
       "4  39148760.0                     5.792968                    60.101694   \n",
       "\n",
       "   Hispanic_Population_Percentage  Poverty_Rate  Unemployment_Rate  \\\n",
       "0                        4.175938     17.049426           3.040241   \n",
       "1                        6.930926     10.543441           3.800459   \n",
       "2                       31.141645     15.722492           3.026105   \n",
       "3                        7.324510     17.064298           2.533679   \n",
       "4                       38.881377     14.016130           3.375591   \n",
       "\n",
       "   Black_Poverty_Rate  White_Poverty_Rate  Hispanic_Poverty_Rate  \n",
       "0           27.374948           12.568739              31.446841  \n",
       "1           16.229433            6.974442              10.641582  \n",
       "2           20.671954           13.702511              22.698344  \n",
       "3           29.064147           14.059909              27.013221  \n",
       "4           20.963942           12.800800              18.876080  "
      ]
     },
     "execution_count": 27,
     "metadata": {},
     "output_type": "execute_result"
    }
   ],
   "source": [
    "#Merge census dataframe and state shooting dataframe\n",
    "stateshooting_census_df = pd.merge(statecentroid_shooting_df, census_pd, how=\"left\", on=\"State\")\n",
    "stateshooting_census_df.head()"
   ]
  },
  {
   "cell_type": "markdown",
   "metadata": {},
   "source": [
    "Linear Regressions of Census Data and Shootings Data"
   ]
  },
  {
   "cell_type": "code",
   "execution_count": 28,
   "metadata": {},
   "outputs": [
    {
     "name": "stdout",
     "output_type": "stream",
     "text": [
      "R squared: 0.06121277841840505\n",
      "R-value: 0.2474121630365109\n"
     ]
    },
    {
     "data": {
      "image/png": "[encoded data removed]",
      "text/plain": [
       "<Figure size 432x288 with 1 Axes>"
      ]
     },
     "metadata": {
      "needs_background": "light"
     },
     "output_type": "display_data"
    }
   ],
   "source": [
    "## Convert to floats and store Poverty Rate and Total Shootings as x and y values\n",
    "x_values = stateshooting_census_df['Poverty_Rate'].astype('float')\n",
    "y_values = stateshooting_census_df['Total_Shootings'].astype('float')\n",
    "\n",
    "# Run linear regression\n",
    "(slope, intercept, rvalue, pvalue, stderr) = linregress(x_values, y_values)\n",
    "regress_values = x_values * slope + intercept\n",
    "line_eq = \"y = \" + str(round(slope,2)) + \"x + \" + str(round(intercept,2))\n",
    "\n",
    "# Plot scatter plot\n",
    "plt.scatter(x_values,y_values)\n",
    "\n",
    "# Plot regression line\n",
    "plt.plot(x_values,regress_values,\"r-\")\n",
    "plt.annotate(line_eq,(16,300),fontsize=15,color=\"red\")\n",
    "\n",
    "# Label plot\n",
    "plt.xlabel('Poverty Rate (%)')\n",
    "plt.ylabel('Total Shootings')\n",
    "plt.title('Total Shootings vs Poverty Rate (%)')\n",
    "\n",
    "# Print r square value\n",
    "print(f\"R squared: {rvalue**2}\")\n",
    "print(f\"R-value: {rvalue}\")\n",
    "\n",
    "# Show plot\n",
    "plt.show()"
   ]
  },
  {
   "cell_type": "code",
   "execution_count": 29,
   "metadata": {},
   "outputs": [
    {
     "name": "stdout",
     "output_type": "stream",
     "text": [
      "R squared: 0.04128139296077931\n",
      "R-value: 0.20317822954435671\n"
     ]
    },
    {
     "data": {
      "image/png": "[encoded data removed]",
      "text/plain": [
       "<Figure size 432x288 with 1 Axes>"
      ]
     },
     "metadata": {
      "needs_background": "light"
     },
     "output_type": "display_data"
    }
   ],
   "source": [
    "## Convert to floats and store Unemployment Rate and Total Shootings as x and y values\n",
    "x_values = stateshooting_census_df['Unemployment_Rate'].astype('float')\n",
    "y_values = stateshooting_census_df['Total_Shootings'].astype('float')\n",
    "\n",
    "# Run linear regression\n",
    "(slope, intercept, rvalue, pvalue, stderr) = linregress(x_values, y_values)\n",
    "regress_values = x_values * slope + intercept\n",
    "line_eq = \"y = \" + str(round(slope,2)) + \"x + \" + str(round(intercept,2))\n",
    "\n",
    "# Plot scatter plot\n",
    "plt.scatter(x_values,y_values)\n",
    "\n",
    "# Plot regression line\n",
    "plt.plot(x_values,regress_values,\"r-\")\n",
    "\n",
    "\n",
    "# Label plot\n",
    "plt.xlabel('Unemployment Rate (%)')\n",
    "plt.ylabel('Total Shootings')\n",
    "plt.title('Total Shootings vs Unemployment Rate (%)')\n",
    "plt.annotate(line_eq,(3.5,300),fontsize=15,color=\"red\")\n",
    "\n",
    "# Print r square value\n",
    "print(f\"R squared: {rvalue**2}\")\n",
    "print(f\"R-value: {rvalue}\")\n",
    "\n",
    "# Show plot\n",
    "plt.show()"
   ]
  },
  {
   "cell_type": "code",
   "execution_count": 30,
   "metadata": {},
   "outputs": [
    {
     "name": "stdout",
     "output_type": "stream",
     "text": [
      "R squared: 0.006071150698300406\n",
      "R-value: -0.0779175891458431\n"
     ]
    },
    {
     "data": {
      "image/png": "[encoded data removed]",
      "text/plain": [
       "<Figure size 432x288 with 1 Axes>"
      ]
     },
     "metadata": {
      "needs_background": "light"
     },
     "output_type": "display_data"
    }
   ],
   "source": [
    "## Convert to floats and store Poverty Rate and Unarmed Shootings as x and y values\n",
    "x_values = stateshooting_census_df['Poverty_Rate'].astype('float')\n",
    "y_values = stateshooting_census_df['Unarmed_Shootings_%'].astype('float')\n",
    "\n",
    "# Run linear regression\n",
    "(slope, intercept, rvalue, pvalue, stderr) = linregress(x_values, y_values)\n",
    "regress_values = x_values * slope + intercept\n",
    "line_eq = \"y = \" + str(round(slope,2)) + \"x + \" + str(round(intercept,2))\n",
    "\n",
    "# Plot scatter plot\n",
    "plt.scatter(x_values,y_values)\n",
    "\n",
    "# Plot regression line\n",
    "plt.plot(x_values,regress_values,\"r-\")\n",
    "plt.annotate(line_eq,(16,12),fontsize=15,color=\"red\")\n",
    "\n",
    "# Label plot\n",
    "plt.xlabel('Poverty Rate (%)')\n",
    "plt.ylabel('Unarmed Shootings (%)')\n",
    "plt.title('Unarmed Shootings (%) vs Poverty Rate (%)')\n",
    "\n",
    "# Print r square value\n",
    "print(f\"R squared: {rvalue**2}\")\n",
    "print(f\"R-value: {rvalue}\")\n",
    "# Show plot\n",
    "plt.show()"
   ]
  },
  {
   "cell_type": "code",
   "execution_count": 31,
   "metadata": {},
   "outputs": [
    {
     "name": "stdout",
     "output_type": "stream",
     "text": [
      "R squared: 0.004005901339843532\n",
      "R-value: -0.06329219019629145\n"
     ]
    },
    {
     "data": {
      "image/png": "[encoded data removed]",
      "text/plain": [
       "<Figure size 432x288 with 1 Axes>"
      ]
     },
     "metadata": {
      "needs_background": "light"
     },
     "output_type": "display_data"
    }
   ],
   "source": [
    "## Convert to floats and store Unemployment Rate and Unarmed Shootings as x and y values\n",
    "x_values = stateshooting_census_df['Unemployment_Rate'].astype('float')\n",
    "y_values = stateshooting_census_df['Unarmed_Shootings_%'].astype('float')\n",
    "\n",
    "# Run linear regression\n",
    "(slope, intercept, rvalue, pvalue, stderr) = linregress(x_values, y_values)\n",
    "regress_values = x_values * slope + intercept\n",
    "line_eq = \"y = \" + str(round(slope,2)) + \"x + \" + str(round(intercept,2))\n",
    "\n",
    "# Plot scatter plot\n",
    "plt.scatter(x_values,y_values)\n",
    "\n",
    "# Plot regression line\n",
    "plt.plot(x_values,regress_values,\"r-\")\n",
    "plt.annotate(line_eq,(3.5,10),fontsize=15,color=\"red\")\n",
    "\n",
    "# Label plot\n",
    "plt.xlabel('Unemployment Rate (%)')\n",
    "plt.ylabel('Unarmed Shootings (%)')\n",
    "plt.title('Unarmed Shootings (%) vs Unemployment Rate (%)')\n",
    "\n",
    "# Print r square value\n",
    "print(f\"R squared: {rvalue**2}\")\n",
    "print(f\"R-value: {rvalue}\")\n",
    "# Show plot\n",
    "plt.show()"
   ]
  },
  {
   "cell_type": "code",
   "execution_count": 40,
   "metadata": {},
   "outputs": [
    {
     "data": {
      "image/png": "[encoded data removed]",
      "text/plain": [
       "<Figure size 432x288 with 1 Axes>"
      ]
     },
     "metadata": {
      "needs_background": "light"
     },
     "output_type": "display_data"
    },
    {
     "data": {
      "text/plain": [
       "<Figure size 432x288 with 0 Axes>"
      ]
     },
     "metadata": {},
     "output_type": "display_data"
    }
   ],
   "source": [
    "## Convert to floats and store % of Black Population and Black Victim Shootings as x and y values\n",
    "x_values = stateshooting_census_df['Black_Population_Percentage'].astype('float')\n",
    "y_values = stateshooting_census_df['Black_Victims_%'].astype('float')\n",
    "\n",
    "# Run linear regression\n",
    "(slope, intercept, rvalue, pvalue, stderr) = linregress(x_values, y_values)\n",
    "regress_values = x_values * slope + intercept\n",
    "line_eq = \"y = \" + str(round(slope,2)) + \"x + \" + str(round(intercept,2))\n",
    "\n",
    "# Plot scatter plot\n",
    "plt.scatter(x_values,y_values)\n",
    "\n",
    "# Plot regression line\n",
    "plt.plot(x_values,regress_values,\"r-\")\n",
    "plt.annotate(line_eq,(28,25),fontsize=15,color=\"red\")\n",
    "\n",
    "# Label plot\n",
    "plt.xlabel('Black Population (%)')\n",
    "plt.ylabel('Black Victim Shootings(%)')\n",
    "plt.title('Black Victim Shootings (%) vs Black Population (%)')\n",
    "\n",
    "# Print r square value\n",
    "# print(f\"R squared: {rvalue**2}\")\n",
    "# print(f\"R-value: {rvalue}\")\n",
    "# print(f\"p-value: {pvalue}\")\n",
    "# Show plot\n",
    "plt.show()"
   ]
  },
  {
   "cell_type": "code",
   "execution_count": 33,
   "metadata": {},
   "outputs": [
    {
     "name": "stdout",
     "output_type": "stream",
     "text": [
      "                            OLS Regression Results                            \n",
      "==============================================================================\n",
      "Dep. Variable:        Black_Victims_%   R-squared:                       0.674\n",
      "Model:                            OLS   Adj. R-squared:                  0.667\n",
      "Method:                 Least Squares   F-statistic:                     101.3\n",
      "Date:                Thu, 08 Oct 2020   Prob (F-statistic):           1.63e-13\n",
      "Time:                        18:40:07   Log-Likelihood:                -196.54\n",
      "No. Observations:                  51   AIC:                             397.1\n",
      "Df Residuals:                      49   BIC:                             400.9\n",
      "Df Model:                           1                                         \n",
      "Covariance Type:            nonrobust                                         \n",
      "===============================================================================================\n",
      "                                  coef    std err          t      P>|t|      [0.025      0.975]\n",
      "-----------------------------------------------------------------------------------------------\n",
      "const                           8.1947      2.377      3.447      0.001       3.418      12.972\n",
      "Black_Population_Percentage     1.5450      0.154     10.064      0.000       1.237       1.854\n",
      "==============================================================================\n",
      "Omnibus:                        4.235   Durbin-Watson:                   2.103\n",
      "Prob(Omnibus):                  0.120   Jarque-Bera (JB):                3.130\n",
      "Skew:                           0.514   Prob(JB):                        0.209\n",
      "Kurtosis:                       3.644   Cond. No.                         22.6\n",
      "==============================================================================\n",
      "\n",
      "Warnings:\n",
      "[1] Standard Errors assume that the covariance matrix of the errors is correctly specified.\n"
     ]
    }
   ],
   "source": [
    "X2 = sm.add_constant(x_values)\n",
    "est = sm.OLS(y_values, X2)\n",
    "est2 = est.fit()\n",
    "print(est2.summary())"
   ]
  },
  {
   "cell_type": "code",
   "execution_count": 57,
   "metadata": {},
   "outputs": [
    {
     "name": "stdout",
     "output_type": "stream",
     "text": [
      "R squared: 0.5942075012778917\n",
      "R-value: 0.7708485592370863\n",
      "p-value: 3.676763653023022e-11\n"
     ]
    },
    {
     "data": {
      "image/png": "[encoded data removed]",
      "text/plain": [
       "<Figure size 432x288 with 1 Axes>"
      ]
     },
     "metadata": {
      "needs_background": "light"
     },
     "output_type": "display_data"
    },
    {
     "data": {
      "text/plain": [
       "<Figure size 432x288 with 0 Axes>"
      ]
     },
     "metadata": {},
     "output_type": "display_data"
    }
   ],
   "source": [
    "## Convert to floats and store % of White Population and White Victim Shootings as x and y values\n",
    "x_values = stateshooting_census_df['White_Population_Percentage'].astype('float')\n",
    "y_values = stateshooting_census_df['White_Victims_%'].astype('float')\n",
    "\n",
    "# Run linear regression\n",
    "(slope, intercept, rvalue, pvalue, stderr) = linregress(x_values, y_values)\n",
    "regress_values = x_values * slope + intercept\n",
    "line_eq = \"y = \" + str(round(slope,2)) + \"x + \" + str(round(intercept,2))\n",
    "\n",
    "# Plot scatter plot\n",
    "plt.scatter(x_values,y_values)\n",
    "\n",
    "# Plot regression line\n",
    "plt.plot(x_values,regress_values,\"r-\")\n",
    "plt.annotate(line_eq,(30,80),fontsize=15,color=\"red\")\n",
    "\n",
    "# Label plot\n",
    "plt.xlabel('White Population (%)')\n",
    "plt.ylabel('White Victim Shootings(%)')\n",
    "plt.title('White Victim Shootings (%) vs White Population (%)')\n",
    "\n",
    "# Print r square value\n",
    "print(f\"R squared: {rvalue**2}\")\n",
    "print(f\"R-value: {rvalue}\")\n",
    "print(f\"p-value: {pvalue}\")\n",
    "# Show plot\n",
    "plt.show()\n",
    "plt.savefig('Images/White_Shootings_vs_White_Population.png')"
   ]
  },
  {
   "cell_type": "code",
   "execution_count": 35,
   "metadata": {},
   "outputs": [
    {
     "name": "stdout",
     "output_type": "stream",
     "text": [
      "                            OLS Regression Results                            \n",
      "==============================================================================\n",
      "Dep. Variable:        White_Victims_%   R-squared:                       0.594\n",
      "Model:                            OLS   Adj. R-squared:                  0.586\n",
      "Method:                 Least Squares   F-statistic:                     71.75\n",
      "Date:                Thu, 08 Oct 2020   Prob (F-statistic):           3.68e-11\n",
      "Time:                        18:40:07   Log-Likelihood:                -200.03\n",
      "No. Observations:                  51   AIC:                             404.1\n",
      "Df Residuals:                      49   BIC:                             407.9\n",
      "Df Model:                           1                                         \n",
      "Covariance Type:            nonrobust                                         \n",
      "===============================================================================================\n",
      "                                  coef    std err          t      P>|t|      [0.025      0.975]\n",
      "-----------------------------------------------------------------------------------------------\n",
      "const                         -26.8567     10.025     -2.679      0.010     -47.002      -6.712\n",
      "White_Population_Percentage     1.1003      0.130      8.471      0.000       0.839       1.361\n",
      "==============================================================================\n",
      "Omnibus:                        3.373   Durbin-Watson:                   2.031\n",
      "Prob(Omnibus):                  0.185   Jarque-Bera (JB):                2.343\n",
      "Skew:                          -0.455   Prob(JB):                        0.310\n",
      "Kurtosis:                       3.523   Cond. No.                         443.\n",
      "==============================================================================\n",
      "\n",
      "Warnings:\n",
      "[1] Standard Errors assume that the covariance matrix of the errors is correctly specified.\n"
     ]
    }
   ],
   "source": [
    "X2 = sm.add_constant(x_values)\n",
    "est = sm.OLS(y_values, X2)\n",
    "est2 = est.fit()\n",
    "print(est2.summary())"
   ]
  },
  {
   "cell_type": "code",
   "execution_count": 58,
   "metadata": {},
   "outputs": [
    {
     "name": "stdout",
     "output_type": "stream",
     "text": [
      "R squared: 0.8342102681375966\n",
      "R-value: 0.9133511198534748\n",
      "p-value: 9.364263612995553e-21\n"
     ]
    },
    {
     "data": {
      "image/png": "[encoded data removed]",
      "text/plain": [
       "<Figure size 432x288 with 1 Axes>"
      ]
     },
     "metadata": {
      "needs_background": "light"
     },
     "output_type": "display_data"
    },
    {
     "data": {
      "text/plain": [
       "<Figure size 432x288 with 0 Axes>"
      ]
     },
     "metadata": {},
     "output_type": "display_data"
    }
   ],
   "source": [
    "## Convert to floats and store % of Hispanic Population and Hispanic Victim Shootings as x and y values\n",
    "x_values = stateshooting_census_df['Hispanic_Population_Percentage'].astype('float')\n",
    "y_values = stateshooting_census_df['Hispanic_Victims_%'].astype('float')\n",
    "\n",
    "# Run linear regression\n",
    "(slope, intercept, rvalue, pvalue, stderr) = linregress(x_values, y_values)\n",
    "regress_values = x_values * slope + intercept\n",
    "line_eq = \"y = \" + str(round(slope,2)) + \"x + \" + str(round(intercept,2))\n",
    "\n",
    "# Plot scatter plot\n",
    "plt.scatter(x_values,y_values)\n",
    "\n",
    "# Plot regression line\n",
    "plt.plot(x_values,regress_values,\"r-\")\n",
    "plt.annotate(line_eq,(30,25),fontsize=15,color=\"red\")\n",
    "\n",
    "# Label plot\n",
    "plt.xlabel('Hispanic Population (%)')\n",
    "plt.ylabel('Hispanic Victim Shootings(%)')\n",
    "plt.title('Hispanic Victim Shootings (%) vs Hispanic Population (%)')\n",
    "\n",
    "# Print r square value\n",
    "print(f\"R squared: {rvalue**2}\")\n",
    "print(f\"R-value: {rvalue}\")\n",
    "print(f\"p-value: {pvalue}\")\n",
    "\n",
    "# Show plot\n",
    "plt.show()\n",
    "plt.savefig('Images/Hispanic_Shootings_vs_Hispanic_Population.png')"
   ]
  },
  {
   "cell_type": "code",
   "execution_count": 37,
   "metadata": {},
   "outputs": [
    {
     "name": "stdout",
     "output_type": "stream",
     "text": [
      "                            OLS Regression Results                            \n",
      "==============================================================================\n",
      "Dep. Variable:     Hispanic_Victims_%   R-squared:                       0.834\n",
      "Model:                            OLS   Adj. R-squared:                  0.831\n",
      "Method:                 Least Squares   F-statistic:                     246.6\n",
      "Date:                Thu, 08 Oct 2020   Prob (F-statistic):           9.36e-21\n",
      "Time:                        18:40:08   Log-Likelihood:                -160.74\n",
      "No. Observations:                  51   AIC:                             325.5\n",
      "Df Residuals:                      49   BIC:                             329.3\n",
      "Df Model:                           1                                         \n",
      "Covariance Type:            nonrobust                                         \n",
      "==================================================================================================\n",
      "                                     coef    std err          t      P>|t|      [0.025      0.975]\n",
      "--------------------------------------------------------------------------------------------------\n",
      "const                             -3.9682      1.236     -3.212      0.002      -6.451      -1.485\n",
      "Hispanic_Population_Percentage     1.2518      0.080     15.702      0.000       1.092       1.412\n",
      "==============================================================================\n",
      "Omnibus:                        0.855   Durbin-Watson:                   2.160\n",
      "Prob(Omnibus):                  0.652   Jarque-Bera (JB):                0.337\n",
      "Skew:                           0.168   Prob(JB):                        0.845\n",
      "Kurtosis:                       3.215   Cond. No.                         23.8\n",
      "==============================================================================\n",
      "\n",
      "Warnings:\n",
      "[1] Standard Errors assume that the covariance matrix of the errors is correctly specified.\n"
     ]
    }
   ],
   "source": [
    "X2 = sm.add_constant(x_values)\n",
    "est = sm.OLS(y_values, X2)\n",
    "est2 = est.fit()\n",
    "print(est2.summary())"
   ]
  },
  {
   "cell_type": "code",
   "execution_count": 59,
   "metadata": {},
   "outputs": [
    {
     "name": "stdout",
     "output_type": "stream",
     "text": [
      "R squared: 0.4802537044662739\n",
      "R-value: 0.6930033942674985\n",
      "p-value: 1.7457883152206225e-08\n"
     ]
    },
    {
     "data": {
      "image/png": "[encoded data removed]",
      "text/plain": [
       "<Figure size 432x288 with 1 Axes>"
      ]
     },
     "metadata": {
      "needs_background": "light"
     },
     "output_type": "display_data"
    },
    {
     "data": {
      "text/plain": [
       "<Figure size 432x288 with 0 Axes>"
      ]
     },
     "metadata": {},
     "output_type": "display_data"
    }
   ],
   "source": [
    "## Convert to floats and store % of Black Population and Unarmed Black Victim Shootings as x and y values\n",
    "x_values = stateshooting_census_df['Black_Population_Percentage'].astype('float')\n",
    "y_values = stateshooting_census_df['Unarmed_Black_Victims_%'].astype('float')\n",
    "\n",
    "# Run linear regression\n",
    "(slope, intercept, rvalue, pvalue, stderr) = linregress(x_values, y_values)\n",
    "regress_values = x_values * slope + intercept\n",
    "line_eq = \"y = \" + str(round(slope,2)) + \"x + \" + str(round(intercept,2))\n",
    "\n",
    "# Plot scatter plot\n",
    "plt.scatter(x_values,y_values)\n",
    "\n",
    "# Plot regression line\n",
    "plt.plot(x_values,regress_values,\"r-\")\n",
    "plt.annotate(line_eq,(29,2),fontsize=15,color=\"red\")\n",
    "\n",
    "# Label plot\n",
    "plt.xlabel('Black Population (%)')\n",
    "plt.ylabel('Unarmed Black Victim Shootings (%)')\n",
    "plt.title('Unarmed Black Victim Shootings (%) vs Black Population (%)')\n",
    "\n",
    "# Print r square value\n",
    "print(f\"R squared: {rvalue**2}\")\n",
    "print(f\"R-value: {rvalue}\")\n",
    "print(f\"p-value: {pvalue}\")\n",
    "# Show plot\n",
    "plt.show()\n",
    "plt.savefig('Images/Unarmed_Black_Shootings_vs_Black_Population.png')"
   ]
  },
  {
   "cell_type": "code",
   "execution_count": 39,
   "metadata": {},
   "outputs": [
    {
     "name": "stdout",
     "output_type": "stream",
     "text": [
      "                               OLS Regression Results                              \n",
      "===================================================================================\n",
      "Dep. Variable:     Unarmed_Black_Victims_%   R-squared:                       0.480\n",
      "Model:                                 OLS   Adj. R-squared:                  0.470\n",
      "Method:                      Least Squares   F-statistic:                     45.28\n",
      "Date:                     Thu, 08 Oct 2020   Prob (F-statistic):           1.75e-08\n",
      "Time:                             18:40:08   Log-Likelihood:                -98.153\n",
      "No. Observations:                       51   AIC:                             200.3\n",
      "Df Residuals:                           49   BIC:                             204.2\n",
      "Df Model:                                1                                         \n",
      "Covariance Type:                 nonrobust                                         \n",
      "===============================================================================================\n",
      "                                  coef    std err          t      P>|t|      [0.025      0.975]\n",
      "-----------------------------------------------------------------------------------------------\n",
      "const                           0.2517      0.345      0.729      0.470      -0.442       0.946\n",
      "Black_Population_Percentage     0.1501      0.022      6.729      0.000       0.105       0.195\n",
      "==============================================================================\n",
      "Omnibus:                        2.320   Durbin-Watson:                   2.048\n",
      "Prob(Omnibus):                  0.314   Jarque-Bera (JB):                1.456\n",
      "Skew:                           0.365   Prob(JB):                        0.483\n",
      "Kurtosis:                       3.389   Cond. No.                         22.6\n",
      "==============================================================================\n",
      "\n",
      "Warnings:\n",
      "[1] Standard Errors assume that the covariance matrix of the errors is correctly specified.\n"
     ]
    }
   ],
   "source": [
    "X2 = sm.add_constant(x_values)\n",
    "est = sm.OLS(y_values, X2)\n",
    "est2 = est.fit()\n",
    "print(est2.summary())"
   ]
  },
  {
   "cell_type": "code",
   "execution_count": 60,
   "metadata": {},
   "outputs": [
    {
     "name": "stdout",
     "output_type": "stream",
     "text": [
      "R squared: 0.047709213320722164\n",
      "R-value: 0.2184243881088423\n",
      "p-value: 0.12359673463777508\n"
     ]
    },
    {
     "data": {
      "image/png": "[encoded data removed]",
      "text/plain": [
       "<Figure size 432x288 with 1 Axes>"
      ]
     },
     "metadata": {
      "needs_background": "light"
     },
     "output_type": "display_data"
    },
    {
     "data": {
      "text/plain": [
       "<Figure size 432x288 with 0 Axes>"
      ]
     },
     "metadata": {},
     "output_type": "display_data"
    }
   ],
   "source": [
    "## Convert to floats and store % of White Population and Unarmed White Victim Shootings as x and y values\n",
    "x_values = stateshooting_census_df['White_Population_Percentage'].astype('float')\n",
    "y_values = stateshooting_census_df['Unarmed_White_Victims_%'].astype('float')\n",
    "\n",
    "# Run linear regression\n",
    "(slope, intercept, rvalue, pvalue, stderr) = linregress(x_values, y_values)\n",
    "regress_values = x_values * slope + intercept\n",
    "line_eq = \"y = \" + str(round(slope,2)) + \"x + \" + str(round(intercept,2))\n",
    "\n",
    "# Plot scatter plot\n",
    "plt.scatter(x_values,y_values)\n",
    "\n",
    "# Plot regression line\n",
    "plt.plot(x_values,regress_values,\"r-\")\n",
    "plt.annotate(line_eq,(30,4.8),fontsize=15,color=\"red\")\n",
    "\n",
    "# Label plot\n",
    "plt.xlabel('White Population (%)')\n",
    "plt.ylabel('Unarmed White Victim Shootings (%)')\n",
    "plt.title('Unarmed White Victim Shootings (%) vs White Population (%)')\n",
    "\n",
    "# Print r square value\n",
    "print(f\"R squared: {rvalue**2}\")\n",
    "print(f\"R-value: {rvalue}\")\n",
    "print(f\"p-value: {pvalue}\")\n",
    "\n",
    "# Show plot\n",
    "plt.show()\n",
    "plt.savefig('Images/Unarmed_White_Shootings_vs_White_Population.png')"
   ]
  },
  {
   "cell_type": "code",
   "execution_count": 41,
   "metadata": {},
   "outputs": [
    {
     "name": "stdout",
     "output_type": "stream",
     "text": [
      "                               OLS Regression Results                              \n",
      "===================================================================================\n",
      "Dep. Variable:     Unarmed_White_Victims_%   R-squared:                       0.048\n",
      "Model:                                 OLS   Adj. R-squared:                  0.028\n",
      "Method:                      Least Squares   F-statistic:                     2.455\n",
      "Date:                     Thu, 08 Oct 2020   Prob (F-statistic):              0.124\n",
      "Time:                             18:40:09   Log-Likelihood:                -130.78\n",
      "No. Observations:                       51   AIC:                             265.6\n",
      "Df Residuals:                           49   BIC:                             269.4\n",
      "Df Model:                                1                                         \n",
      "Covariance Type:                 nonrobust                                         \n",
      "===============================================================================================\n",
      "                                  coef    std err          t      P>|t|      [0.025      0.975]\n",
      "-----------------------------------------------------------------------------------------------\n",
      "const                          -0.7194      2.578     -0.279      0.781      -5.900       4.461\n",
      "White_Population_Percentage     0.0523      0.033      1.567      0.124      -0.015       0.119\n",
      "==============================================================================\n",
      "Omnibus:                       36.828   Durbin-Watson:                   1.572\n",
      "Prob(Omnibus):                  0.000   Jarque-Bera (JB):              117.988\n",
      "Skew:                           1.919   Prob(JB):                     2.39e-26\n",
      "Kurtosis:                       9.388   Cond. No.                         443.\n",
      "==============================================================================\n",
      "\n",
      "Warnings:\n",
      "[1] Standard Errors assume that the covariance matrix of the errors is correctly specified.\n"
     ]
    }
   ],
   "source": [
    "X2 = sm.add_constant(x_values)\n",
    "est = sm.OLS(y_values, X2)\n",
    "est2 = est.fit()\n",
    "print(est2.summary())"
   ]
  },
  {
   "cell_type": "code",
   "execution_count": 61,
   "metadata": {},
   "outputs": [
    {
     "name": "stdout",
     "output_type": "stream",
     "text": [
      "R squared: 0.2752755915120605\n",
      "R-value: 0.524667124481857\n",
      "p-value: 7.741537559980572e-05\n"
     ]
    },
    {
     "data": {
      "image/png": "[encoded data removed]",
      "text/plain": [
       "<Figure size 432x288 with 1 Axes>"
      ]
     },
     "metadata": {
      "needs_background": "light"
     },
     "output_type": "display_data"
    },
    {
     "data": {
      "text/plain": [
       "<Figure size 432x288 with 0 Axes>"
      ]
     },
     "metadata": {},
     "output_type": "display_data"
    }
   ],
   "source": [
    "## Convert to floats and store % of Hispanic Population and Unarmed Hispanic Victim Shootings as x and y values\n",
    "x_values = stateshooting_census_df['Hispanic_Population_Percentage'].astype('float')\n",
    "y_values = stateshooting_census_df['Unarmed_Hispanic_Victims_%'].astype('float')\n",
    "\n",
    "# Run linear regression\n",
    "(slope, intercept, rvalue, pvalue, stderr) = linregress(x_values, y_values)\n",
    "regress_values = x_values * slope + intercept\n",
    "line_eq = \"y = \" + str(round(slope,2)) + \"x + \" + str(round(intercept,2))\n",
    "\n",
    "# Plot scatter plot\n",
    "plt.scatter(x_values,y_values)\n",
    "\n",
    "# Plot regression line\n",
    "plt.plot(x_values,regress_values,\"r-\")\n",
    "plt.annotate(line_eq,(25,4.5),fontsize=15,color=\"red\")\n",
    "\n",
    "# Label plot\n",
    "plt.xlabel('Hispanic Population (%)')\n",
    "plt.ylabel('Unarmed Hispanic Victim Shootings (%)')\n",
    "plt.title('Unarmed Hispanic Victim Shootings (%) vs Hispanic Population (%)')\n",
    "\n",
    "# Print r square value\n",
    "print(f\"R squared: {rvalue**2}\")\n",
    "print(f\"R-value: {rvalue}\")\n",
    "print(f\"p-value: {pvalue}\")\n",
    "\n",
    "# Show plot\n",
    "plt.show()\n",
    "plt.savefig('Images/Unarmed_Black_Shootings_vs_Black_Population.png')"
   ]
  },
  {
   "cell_type": "code",
   "execution_count": 43,
   "metadata": {},
   "outputs": [
    {
     "name": "stdout",
     "output_type": "stream",
     "text": [
      "                                OLS Regression Results                                \n",
      "======================================================================================\n",
      "Dep. Variable:     Unarmed_Hispanic_Victims_%   R-squared:                       0.275\n",
      "Model:                                    OLS   Adj. R-squared:                  0.260\n",
      "Method:                         Least Squares   F-statistic:                     18.61\n",
      "Date:                        Thu, 08 Oct 2020   Prob (F-statistic):           7.74e-05\n",
      "Time:                                18:40:09   Log-Likelihood:                -85.720\n",
      "No. Observations:                          51   AIC:                             175.4\n",
      "Df Residuals:                              49   BIC:                             179.3\n",
      "Df Model:                                   1                                         \n",
      "Covariance Type:                    nonrobust                                         \n",
      "==================================================================================================\n",
      "                                     coef    std err          t      P>|t|      [0.025      0.975]\n",
      "--------------------------------------------------------------------------------------------------\n",
      "const                             -0.1382      0.284     -0.487      0.628      -0.709       0.432\n",
      "Hispanic_Population_Percentage     0.0790      0.018      4.314      0.000       0.042       0.116\n",
      "==============================================================================\n",
      "Omnibus:                       69.436   Durbin-Watson:                   1.544\n",
      "Prob(Omnibus):                  0.000   Jarque-Bera (JB):              644.960\n",
      "Skew:                           3.625   Prob(JB):                    8.89e-141\n",
      "Kurtosis:                      18.842   Cond. No.                         23.8\n",
      "==============================================================================\n",
      "\n",
      "Warnings:\n",
      "[1] Standard Errors assume that the covariance matrix of the errors is correctly specified.\n"
     ]
    }
   ],
   "source": [
    "X2 = sm.add_constant(x_values)\n",
    "est = sm.OLS(y_values, X2)\n",
    "est2 = est.fit()\n",
    "print(est2.summary())"
   ]
  },
  {
   "cell_type": "code",
   "execution_count": 44,
   "metadata": {},
   "outputs": [
    {
     "name": "stdout",
     "output_type": "stream",
     "text": [
      "R squared: 0.011031099993490964\n",
      "R-value: 0.1050290435712473\n"
     ]
    },
    {
     "data": {
      "image/png": "[encoded data removed]",
      "text/plain": [
       "<Figure size 432x288 with 1 Axes>"
      ]
     },
     "metadata": {
      "needs_background": "light"
     },
     "output_type": "display_data"
    }
   ],
   "source": [
    "## Convert to floats and store Black Poverty Rate and Black Victim Shootings as x and y values\n",
    "x_values = stateshooting_census_df['Black_Poverty_Rate'].astype('float')\n",
    "y_values = stateshooting_census_df['Black_Victims_%'].astype('float')\n",
    "\n",
    "# Run linear regression\n",
    "(slope, intercept, rvalue, pvalue, stderr) = linregress(x_values, y_values)\n",
    "regress_values = x_values * slope + intercept\n",
    "line_eq = \"y = \" + str(round(slope,2)) + \"x + \" + str(round(intercept,2))\n",
    "\n",
    "# Plot scatter plot\n",
    "plt.scatter(x_values,y_values)\n",
    "\n",
    "# Plot regression line\n",
    "plt.plot(x_values,regress_values,\"r-\")\n",
    "plt.annotate(line_eq,(30,6),fontsize=15,color=\"red\")\n",
    "\n",
    "# Label plot\n",
    "plt.xlabel('Black Poverty Rate')\n",
    "plt.ylabel('Black Victim Shootings (%)')\n",
    "plt.title('Black Victim Shootings (%) vs Black Poverty Rate')\n",
    "\n",
    "# Print r square value\n",
    "print(f\"R squared: {rvalue**2}\")\n",
    "print(f\"R-value: {rvalue}\")\n",
    "# Show plot\n",
    "plt.show()"
   ]
  },
  {
   "cell_type": "code",
   "execution_count": 45,
   "metadata": {},
   "outputs": [
    {
     "name": "stdout",
     "output_type": "stream",
     "text": [
      "R squared: 0.028802114919668005\n",
      "R-value: 0.16971185851220888\n"
     ]
    },
    {
     "data": {
      "image/png": "[encoded data removed]",
      "text/plain": [
       "<Figure size 432x288 with 1 Axes>"
      ]
     },
     "metadata": {
      "needs_background": "light"
     },
     "output_type": "display_data"
    }
   ],
   "source": [
    "## Convert to floats and store White Poverty Rate and White Victim Shootings as x and y values\n",
    "x_values = stateshooting_census_df['White_Poverty_Rate'].astype('float')\n",
    "y_values = stateshooting_census_df['White_Victims_%'].astype('float')\n",
    "\n",
    "# Run linear regression\n",
    "(slope, intercept, rvalue, pvalue, stderr) = linregress(x_values, y_values)\n",
    "regress_values = x_values * slope + intercept\n",
    "line_eq = \"y = \" + str(round(slope,2)) + \"x + \" + str(round(intercept,2))\n",
    "\n",
    "# Plot scatter plot\n",
    "plt.scatter(x_values,y_values)\n",
    "\n",
    "# Plot regression line\n",
    "plt.plot(x_values,regress_values,\"r-\")\n",
    "plt.annotate(line_eq,(30,6),fontsize=15,color=\"red\")\n",
    "\n",
    "# Label plot\n",
    "plt.xlabel('White Poverty Rate')\n",
    "plt.ylabel('White Victim Shootings (%)')\n",
    "plt.title('White Victim Shootings (%) vs White Poverty Rate')\n",
    "\n",
    "# Print r square value\n",
    "print(f\"R squared: {rvalue**2}\")\n",
    "print(f\"R-value: {rvalue}\")\n",
    "# Show plot\n",
    "plt.show()"
   ]
  },
  {
   "cell_type": "code",
   "execution_count": 46,
   "metadata": {},
   "outputs": [
    {
     "name": "stdout",
     "output_type": "stream",
     "text": [
      "R squared: 0.00023051663302242227\n",
      "R-value: 0.015182774220228077\n"
     ]
    },
    {
     "data": {
      "image/png": "[encoded data removed]",
      "text/plain": [
       "<Figure size 432x288 with 1 Axes>"
      ]
     },
     "metadata": {
      "needs_background": "light"
     },
     "output_type": "display_data"
    }
   ],
   "source": [
    "## Convert to floats and store Hispanic Poverty Rate and Hispanic Victim Shootings as x and y values\n",
    "x_values = stateshooting_census_df['Hispanic_Poverty_Rate'].astype('float')\n",
    "y_values = stateshooting_census_df['Hispanic_Victims_%'].astype('float')\n",
    "\n",
    "# Run linear regression\n",
    "(slope, intercept, rvalue, pvalue, stderr) = linregress(x_values, y_values)\n",
    "regress_values = x_values * slope + intercept\n",
    "line_eq = \"y = \" + str(round(slope,2)) + \"x + \" + str(round(intercept,2))\n",
    "\n",
    "# Plot scatter plot\n",
    "plt.scatter(x_values,y_values)\n",
    "\n",
    "# Plot regression line\n",
    "plt.plot(x_values,regress_values,\"r-\")\n",
    "plt.annotate(line_eq,(30,6),fontsize=15,color=\"red\")\n",
    "\n",
    "# Label plot\n",
    "plt.xlabel('Hispanic Poverty Rate')\n",
    "plt.ylabel('Hispanic Victim Shootings (%)')\n",
    "plt.title('Hispanic Victim Shootings (%) vs White Poverty Rate')\n",
    "\n",
    "# Print r square value\n",
    "print(f\"R squared: {rvalue**2}\")\n",
    "print(f\"R-value: {rvalue}\")\n",
    "# Show plot\n",
    "plt.show()"
   ]
  },
  {
   "cell_type": "code",
   "execution_count": 47,
   "metadata": {},
   "outputs": [
    {
     "name": "stdout",
     "output_type": "stream",
     "text": [
      "R squared: 0.005250828879732355\n",
      "R-value: 0.07246260331876267\n"
     ]
    },
    {
     "data": {
      "image/png": "[encoded data removed]",
      "text/plain": [
       "<Figure size 432x288 with 1 Axes>"
      ]
     },
     "metadata": {
      "needs_background": "light"
     },
     "output_type": "display_data"
    }
   ],
   "source": [
    "## Convert to floats and store Black Poverty Rate and Black Unarmed Victim Shootings as x and y values\n",
    "x_values = stateshooting_census_df['Black_Poverty_Rate'].astype('float')\n",
    "y_values = stateshooting_census_df['Unarmed_Black_Victims_%'].astype('float')\n",
    "\n",
    "# Run linear regression\n",
    "(slope, intercept, rvalue, pvalue, stderr) = linregress(x_values, y_values)\n",
    "regress_values = x_values * slope + intercept\n",
    "line_eq = \"y = \" + str(round(slope,2)) + \"x + \" + str(round(intercept,2))\n",
    "\n",
    "# Plot scatter plot\n",
    "plt.scatter(x_values,y_values)\n",
    "\n",
    "# Plot regression line\n",
    "plt.plot(x_values,regress_values,\"r-\")\n",
    "plt.annotate(line_eq,(30,6),fontsize=15,color=\"red\")\n",
    "\n",
    "# Label plot\n",
    "plt.xlabel('Black Poverty Rate')\n",
    "plt.ylabel('Unarmed Black Victim Shootings (%)')\n",
    "plt.title('Unarmed Black Victim Shootings (%) vs Black Poverty Rate')\n",
    "\n",
    "# Print r square value\n",
    "print(f\"R squared: {rvalue**2}\")\n",
    "print(f\"R-value: {rvalue}\")\n",
    "# Show plot\n",
    "plt.show()"
   ]
  },
  {
   "cell_type": "code",
   "execution_count": 48,
   "metadata": {},
   "outputs": [
    {
     "name": "stdout",
     "output_type": "stream",
     "text": [
      "R squared: 0.03369330696528664\n",
      "R-value: -0.18355736695999603\n"
     ]
    },
    {
     "data": {
      "image/png": "[encoded data removed]",
      "text/plain": [
       "<Figure size 432x288 with 1 Axes>"
      ]
     },
     "metadata": {
      "needs_background": "light"
     },
     "output_type": "display_data"
    }
   ],
   "source": [
    "## Convert to floats and store White Poverty Rate and White Unarmed Victim Shootings as x and y values\n",
    "x_values = stateshooting_census_df['White_Poverty_Rate'].astype('float')\n",
    "y_values = stateshooting_census_df['Unarmed_White_Victims_%'].astype('float')\n",
    "\n",
    "# Run linear regression\n",
    "(slope, intercept, rvalue, pvalue, stderr) = linregress(x_values, y_values)\n",
    "regress_values = x_values * slope + intercept\n",
    "line_eq = \"y = \" + str(round(slope,2)) + \"x + \" + str(round(intercept,2))\n",
    "\n",
    "# Plot scatter plot\n",
    "plt.scatter(x_values,y_values)\n",
    "\n",
    "# Plot regression line\n",
    "plt.plot(x_values,regress_values,\"r-\")\n",
    "plt.annotate(line_eq,(30,6),fontsize=15,color=\"red\")\n",
    "\n",
    "# Label plot\n",
    "plt.xlabel('White Poverty Rate')\n",
    "plt.ylabel('Unarmed White Victim Shootings (%)')\n",
    "plt.title('Unarmed White Victim Shootings (%) vs White Poverty Rate')\n",
    "\n",
    "# Print r square value\n",
    "print(f\"R squared: {rvalue**2}\")\n",
    "print(f\"R-value: {rvalue}\")\n",
    "# Show plot\n",
    "plt.show()"
   ]
  },
  {
   "cell_type": "code",
   "execution_count": 49,
   "metadata": {},
   "outputs": [
    {
     "name": "stdout",
     "output_type": "stream",
     "text": [
      "R squared: 0.00011837834354816164\n",
      "R-value: -0.010880181227726018\n"
     ]
    },
    {
     "data": {
      "image/png": "[encoded data removed]",
      "text/plain": [
       "<Figure size 432x288 with 1 Axes>"
      ]
     },
     "metadata": {
      "needs_background": "light"
     },
     "output_type": "display_data"
    }
   ],
   "source": [
    "## Convert to floats and store Hispanic Poverty Rate and Hispanic Unarmed Victim Shootings as x and y values\n",
    "x_values = stateshooting_census_df['Hispanic_Poverty_Rate'].astype('float')\n",
    "y_values = stateshooting_census_df['Unarmed_Hispanic_Victims_%'].astype('float')\n",
    "\n",
    "# Run linear regression\n",
    "(slope, intercept, rvalue, pvalue, stderr) = linregress(x_values, y_values)\n",
    "regress_values = x_values * slope + intercept\n",
    "line_eq = \"y = \" + str(round(slope,2)) + \"x + \" + str(round(intercept,2))\n",
    "\n",
    "# Plot scatter plot\n",
    "plt.scatter(x_values,y_values)\n",
    "\n",
    "# Plot regression line\n",
    "plt.plot(x_values,regress_values,\"r-\")\n",
    "plt.annotate(line_eq,(30,6),fontsize=15,color=\"red\")\n",
    "\n",
    "# Label plot\n",
    "plt.xlabel('Hispanic Poverty Rate')\n",
    "plt.ylabel('Unarmed Hispanic Victim Shootings (%)')\n",
    "plt.title('Unarmed Hispanic Victim Shootings (%) vs Hispanic Poverty Rate')\n",
    "\n",
    "# Print r square value\n",
    "print(f\"R squared: {rvalue**2}\")\n",
    "print(f\"R-value: {rvalue}\")\n",
    "# Show plot\n",
    "plt.show()"
   ]
  },
  {
   "cell_type": "code",
   "execution_count": null,
   "metadata": {},
   "outputs": [],
   "source": []
  },
  {
   "cell_type": "code",
   "execution_count": null,
   "metadata": {},
   "outputs": [],
   "source": []
  }
 ],
 "metadata": {
  "kernelspec": {
   "display_name": "Python 3",
   "language": "python",
   "name": "python3"
  },
  "language_info": {
   "codemirror_mode": {
    "name": "ipython",
    "version": 3
   },
   "file_extension": ".py",
   "mimetype": "text/x-python",
   "name": "python",
   "nbconvert_exporter": "python",
   "pygments_lexer": "ipython3",
   "version": "3.6.10"
  }
 },
 "nbformat": 4,
 "nbformat_minor": 4
}
