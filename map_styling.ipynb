{
 "cells": [
  {
   "cell_type": "code",
   "execution_count": 1,
   "metadata": {},
   "outputs": [],
   "source": [
    "# import dependencies\n",
    "import pandas as pd\n",
    "import gmaps.geojson_geometries\n",
    "import gmaps.datasets\n",
    "from config import (gkey)\n",
    "import numpy as np\n",
    "import matplotlib.pyplot as plt\n",
    "from us import states\n",
    "from scipy.stats import linregress"
   ]
  },
  {
   "cell_type": "code",
   "execution_count": 2,
   "metadata": {},
   "outputs": [],
   "source": [
    "gmaps.configure(api_key=gkey)"
   ]
  },
  {
   "cell_type": "code",
   "execution_count": 3,
   "metadata": {},
   "outputs": [],
   "source": [
    "gmaps.geojson_geometries.list_geometries()\n",
    "state_geojson = gmaps.geojson_geometries.load_geometry('us-states')\n",
    "\n",
    "fig = gmaps.figure()\n",
    "\n",
    "geojson_layer = gmaps.geojson_layer(state_geojson)\n",
    "fig.add_layer(geojson_layer)"
   ]
  },
  {
   "cell_type": "code",
   "execution_count": 4,
   "metadata": {},
   "outputs": [
    {
     "data": {
      "text/html": [
       "<div>\n",
       "<style scoped>\n",
       "    .dataframe tbody tr th:only-of-type {\n",
       "        vertical-align: middle;\n",
       "    }\n",
       "\n",
       "    .dataframe tbody tr th {\n",
       "        vertical-align: top;\n",
       "    }\n",
       "\n",
       "    .dataframe thead th {\n",
       "        text-align: right;\n",
       "    }\n",
       "</style>\n",
       "<table border=\"1\" class=\"dataframe\">\n",
       "  <thead>\n",
       "    <tr style=\"text-align: right;\">\n",
       "      <th></th>\n",
       "      <th>state</th>\n",
       "      <th>trump-clinton</th>\n",
       "      <th>clinton</th>\n",
       "      <th>trump</th>\n",
       "      <th>state_name</th>\n",
       "    </tr>\n",
       "  </thead>\n",
       "  <tbody>\n",
       "    <tr>\n",
       "      <th>0</th>\n",
       "      <td>AK</td>\n",
       "      <td>0.147</td>\n",
       "      <td>0.366</td>\n",
       "      <td>0.513</td>\n",
       "      <td></td>\n",
       "    </tr>\n",
       "    <tr>\n",
       "      <th>1</th>\n",
       "      <td>AL</td>\n",
       "      <td>0.277</td>\n",
       "      <td>0.344</td>\n",
       "      <td>0.621</td>\n",
       "      <td></td>\n",
       "    </tr>\n",
       "    <tr>\n",
       "      <th>2</th>\n",
       "      <td>AR</td>\n",
       "      <td>0.269</td>\n",
       "      <td>0.337</td>\n",
       "      <td>0.606</td>\n",
       "      <td></td>\n",
       "    </tr>\n",
       "    <tr>\n",
       "      <th>3</th>\n",
       "      <td>AZ</td>\n",
       "      <td>0.036</td>\n",
       "      <td>0.451</td>\n",
       "      <td>0.487</td>\n",
       "      <td></td>\n",
       "    </tr>\n",
       "    <tr>\n",
       "      <th>4</th>\n",
       "      <td>CA</td>\n",
       "      <td>-0.301</td>\n",
       "      <td>0.617</td>\n",
       "      <td>0.316</td>\n",
       "      <td></td>\n",
       "    </tr>\n",
       "  </tbody>\n",
       "</table>\n",
       "</div>"
      ],
      "text/plain": [
       "  state  trump-clinton  clinton  trump state_name\n",
       "0    AK          0.147    0.366  0.513           \n",
       "1    AL          0.277    0.344  0.621           \n",
       "2    AR          0.269    0.337  0.606           \n",
       "3    AZ          0.036    0.451  0.487           \n",
       "4    CA         -0.301    0.617  0.316           "
      ]
     },
     "execution_count": 4,
     "metadata": {},
     "output_type": "execute_result"
    }
   ],
   "source": [
    "election = pd.read_csv('Resources/election.csv')\n",
    "election['state_name'] = ''\n",
    "election.head()"
   ]
  },
  {
   "cell_type": "code",
   "execution_count": 6,
   "metadata": {},
   "outputs": [
    {
     "data": {
      "text/html": [
       "<div>\n",
       "<style scoped>\n",
       "    .dataframe tbody tr th:only-of-type {\n",
       "        vertical-align: middle;\n",
       "    }\n",
       "\n",
       "    .dataframe tbody tr th {\n",
       "        vertical-align: top;\n",
       "    }\n",
       "\n",
       "    .dataframe thead th {\n",
       "        text-align: right;\n",
       "    }\n",
       "</style>\n",
       "<table border=\"1\" class=\"dataframe\">\n",
       "  <thead>\n",
       "    <tr style=\"text-align: right;\">\n",
       "      <th></th>\n",
       "      <th>trump-clinton</th>\n",
       "      <th>clinton</th>\n",
       "      <th>trump</th>\n",
       "      <th>State</th>\n",
       "    </tr>\n",
       "  </thead>\n",
       "  <tbody>\n",
       "    <tr>\n",
       "      <th>0</th>\n",
       "      <td>0.147</td>\n",
       "      <td>0.366</td>\n",
       "      <td>0.513</td>\n",
       "      <td>Alaska</td>\n",
       "    </tr>\n",
       "    <tr>\n",
       "      <th>1</th>\n",
       "      <td>0.277</td>\n",
       "      <td>0.344</td>\n",
       "      <td>0.621</td>\n",
       "      <td>Alabama</td>\n",
       "    </tr>\n",
       "    <tr>\n",
       "      <th>2</th>\n",
       "      <td>0.269</td>\n",
       "      <td>0.337</td>\n",
       "      <td>0.606</td>\n",
       "      <td>Arkansas</td>\n",
       "    </tr>\n",
       "    <tr>\n",
       "      <th>3</th>\n",
       "      <td>0.036</td>\n",
       "      <td>0.451</td>\n",
       "      <td>0.487</td>\n",
       "      <td>Arizona</td>\n",
       "    </tr>\n",
       "    <tr>\n",
       "      <th>4</th>\n",
       "      <td>-0.301</td>\n",
       "      <td>0.617</td>\n",
       "      <td>0.316</td>\n",
       "      <td>California</td>\n",
       "    </tr>\n",
       "  </tbody>\n",
       "</table>\n",
       "</div>"
      ],
      "text/plain": [
       "   trump-clinton  clinton  trump       State\n",
       "0          0.147    0.366  0.513      Alaska\n",
       "1          0.277    0.344  0.621     Alabama\n",
       "2          0.269    0.337  0.606    Arkansas\n",
       "3          0.036    0.451  0.487     Arizona\n",
       "4         -0.301    0.617  0.316  California"
      ]
     },
     "execution_count": 6,
     "metadata": {},
     "output_type": "execute_result"
    }
   ],
   "source": [
    "abb = dict(eval(open('Resources/us_state_abbrev.py').read()))\n",
    "for index, row in election.iterrows():  \n",
    "    state_name = [key for key, value in abb.items() if value == row['state']]\n",
    "    election.loc[index, 'state_name'] = state_name\n",
    "election = election.drop(columns = ['state']).rename(columns={\"state_name\": \"State\"})\n",
    "election.head()"
   ]
  },
  {
   "cell_type": "code",
   "execution_count": 21,
   "metadata": {},
   "outputs": [],
   "source": [
    "# run through geoJSON state list and append colors representing political party\n",
    "colors = []\n",
    "for feature in state_geojson['features']:\n",
    "    state_name = feature['properties']['NAME']\n",
    "    for index, row in election.iterrows():\n",
    "        if (state_name == row['State']) & (row['trump-clinton'] >= 0):\n",
    "            color= (255, 0, 0 , .2)\n",
    "        elif (state_name == row['State']) & (row['trump-clinton'] < 0):\n",
    "            color= (0, 0, 255 , .2)\n",
    "    colors.append(color)  "
   ]
  },
  {
   "cell_type": "code",
   "execution_count": 22,
   "metadata": {},
   "outputs": [
    {
     "data": {
      "text/plain": [
       "52"
      ]
     },
     "execution_count": 22,
     "metadata": {},
     "output_type": "execute_result"
    }
   ],
   "source": [
    "# check length of colors\n",
    "len(colors)"
   ]
  },
  {
   "cell_type": "code",
   "execution_count": 23,
   "metadata": {},
   "outputs": [
    {
     "data": {
      "application/vnd.jupyter.widget-view+json": {
       "model_id": "f4606f26bd4a46dc8b6ce11b09f7aecb",
       "version_major": 2,
       "version_minor": 0
      },
      "text/plain": [
       "Figure(layout=FigureLayout(height='420px'))"
      ]
     },
     "metadata": {},
     "output_type": "display_data"
    }
   ],
   "source": [
    "fig = gmaps.figure()\n",
    "gini_layer = gmaps.geojson_layer(\n",
    "    state_geojson,\n",
    "    fill_color=colors,\n",
    "    stroke_color=colors,\n",
    "    fill_opacity=.4)\n",
    "fig.add_layer(gini_layer)\n",
    "fig"
   ]
  },
  {
   "cell_type": "code",
   "execution_count": 24,
   "metadata": {},
   "outputs": [
    {
     "data": {
      "text/html": [
       "<div>\n",
       "<style scoped>\n",
       "    .dataframe tbody tr th:only-of-type {\n",
       "        vertical-align: middle;\n",
       "    }\n",
       "\n",
       "    .dataframe tbody tr th {\n",
       "        vertical-align: top;\n",
       "    }\n",
       "\n",
       "    .dataframe thead th {\n",
       "        text-align: right;\n",
       "    }\n",
       "</style>\n",
       "<table border=\"1\" class=\"dataframe\">\n",
       "  <thead>\n",
       "    <tr style=\"text-align: right;\">\n",
       "      <th></th>\n",
       "      <th>State</th>\n",
       "      <th>Total_Shootings</th>\n",
       "      <th>Unarmed_Shootings_%</th>\n",
       "      <th>Black_Victims_%</th>\n",
       "      <th>Unarmed_Black_Victims_%</th>\n",
       "      <th>White_Victims_%</th>\n",
       "      <th>Unarmed_White_Victims_%</th>\n",
       "      <th>Hispanic_Victims_%</th>\n",
       "      <th>Unarmed_Hispanic_Victims_%</th>\n",
       "      <th>Latitude</th>\n",
       "      <th>Longitude</th>\n",
       "    </tr>\n",
       "  </thead>\n",
       "  <tbody>\n",
       "    <tr>\n",
       "      <th>0</th>\n",
       "      <td>Alabama</td>\n",
       "      <td>13.925395</td>\n",
       "      <td>23.926316</td>\n",
       "      <td>35.997368</td>\n",
       "      <td>27.573684</td>\n",
       "      <td>63.873684</td>\n",
       "      <td>12.463158</td>\n",
       "      <td>2.514309</td>\n",
       "      <td>1.000000</td>\n",
       "      <td>32.7794</td>\n",
       "      <td>-86.8287</td>\n",
       "    </tr>\n",
       "    <tr>\n",
       "      <th>1</th>\n",
       "      <td>Alaska</td>\n",
       "      <td>5.545194</td>\n",
       "      <td>46.375000</td>\n",
       "      <td>9.937500</td>\n",
       "      <td>1.000000</td>\n",
       "      <td>58.291667</td>\n",
       "      <td>46.375000</td>\n",
       "      <td>1.000000</td>\n",
       "      <td>1.000000</td>\n",
       "      <td>64.0685</td>\n",
       "      <td>-152.2782</td>\n",
       "    </tr>\n",
       "    <tr>\n",
       "      <th>2</th>\n",
       "      <td>Arizona</td>\n",
       "      <td>31.964132</td>\n",
       "      <td>40.243243</td>\n",
       "      <td>9.212838</td>\n",
       "      <td>18.057432</td>\n",
       "      <td>45.408784</td>\n",
       "      <td>20.621622</td>\n",
       "      <td>54.785262</td>\n",
       "      <td>29.986486</td>\n",
       "      <td>34.2744</td>\n",
       "      <td>-111.6602</td>\n",
       "    </tr>\n",
       "    <tr>\n",
       "      <th>3</th>\n",
       "      <td>Arkansas</td>\n",
       "      <td>10.800574</td>\n",
       "      <td>23.376712</td>\n",
       "      <td>39.198630</td>\n",
       "      <td>35.582192</td>\n",
       "      <td>60.332192</td>\n",
       "      <td>8.458904</td>\n",
       "      <td>1.000000</td>\n",
       "      <td>1.000000</td>\n",
       "      <td>34.8938</td>\n",
       "      <td>-92.4426</td>\n",
       "    </tr>\n",
       "    <tr>\n",
       "      <th>4</th>\n",
       "      <td>California</td>\n",
       "      <td>100.000000</td>\n",
       "      <td>45.274608</td>\n",
       "      <td>19.665478</td>\n",
       "      <td>24.408345</td>\n",
       "      <td>26.562054</td>\n",
       "      <td>11.874465</td>\n",
       "      <td>65.849590</td>\n",
       "      <td>50.570613</td>\n",
       "      <td>37.1841</td>\n",
       "      <td>-119.4696</td>\n",
       "    </tr>\n",
       "  </tbody>\n",
       "</table>\n",
       "</div>"
      ],
      "text/plain": [
       "        State  Total_Shootings  Unarmed_Shootings_%  Black_Victims_%  \\\n",
       "0     Alabama        13.925395            23.926316        35.997368   \n",
       "1      Alaska         5.545194            46.375000         9.937500   \n",
       "2     Arizona        31.964132            40.243243         9.212838   \n",
       "3    Arkansas        10.800574            23.376712        39.198630   \n",
       "4  California       100.000000            45.274608        19.665478   \n",
       "\n",
       "   Unarmed_Black_Victims_%  White_Victims_%  Unarmed_White_Victims_%  \\\n",
       "0                27.573684        63.873684                12.463158   \n",
       "1                 1.000000        58.291667                46.375000   \n",
       "2                18.057432        45.408784                20.621622   \n",
       "3                35.582192        60.332192                 8.458904   \n",
       "4                24.408345        26.562054                11.874465   \n",
       "\n",
       "   Hispanic_Victims_%  Unarmed_Hispanic_Victims_%  Latitude  Longitude  \n",
       "0            2.514309                    1.000000   32.7794   -86.8287  \n",
       "1            1.000000                    1.000000   64.0685  -152.2782  \n",
       "2           54.785262                   29.986486   34.2744  -111.6602  \n",
       "3            1.000000                    1.000000   34.8938   -92.4426  \n",
       "4           65.849590                   50.570613   37.1841  -119.4696  "
      ]
     },
     "execution_count": 24,
     "metadata": {},
     "output_type": "execute_result"
    }
   ],
   "source": [
    "normalised_shootingsbystate_df = pd.read_csv(\"Resources/normalised_shootingdata_bystate.csv\")\n",
    "normalised_shootingsbystate_df.head()"
   ]
  },
  {
   "cell_type": "code",
   "execution_count": 25,
   "metadata": {
    "scrolled": false
   },
   "outputs": [
    {
     "data": {
      "application/vnd.jupyter.widget-view+json": {
       "model_id": "6f05e7b05ba94e57a28d7bd5ef942b78",
       "version_major": 2,
       "version_minor": 0
      },
      "text/plain": [
       "Figure(layout=FigureLayout(height='420px'))"
      ]
     },
     "metadata": {},
     "output_type": "display_data"
    }
   ],
   "source": [
    "locations = normalised_shootingsbystate_df[[\"Latitude\", \"Longitude\"]].astype(float)\n",
    "total_shootings = normalised_shootingsbystate_df[\"Total_Shootings\"].astype(float)\n",
    "\n",
    "fig = gmaps.figure()\n",
    "heat_layer = gmaps.heatmap_layer(locations, weights=total_shootings, \n",
    "                                 dissipating=False, max_intensity=50,\n",
    "                                 point_radius = 3)\n",
    "fig.add_layer(gini_layer)\n",
    "fig.add_layer(heat_layer)\n",
    "fig"
   ]
  },
  {
   "cell_type": "code",
   "execution_count": 26,
   "metadata": {},
   "outputs": [
    {
     "data": {
      "application/vnd.jupyter.widget-view+json": {
       "model_id": "888c25615bec422b900c6d11f42cb901",
       "version_major": 2,
       "version_minor": 0
      },
      "text/plain": [
       "Figure(layout=FigureLayout(height='420px'))"
      ]
     },
     "metadata": {},
     "output_type": "display_data"
    }
   ],
   "source": [
    "blackvictim_shootings = normalised_shootingsbystate_df[\"Black_Victims_%\"].astype(float)\n",
    "fig = gmaps.figure()\n",
    "heat_layer = gmaps.heatmap_layer(locations, weights=blackvictim_shootings, \n",
    "                                 dissipating=False, max_intensity=75,\n",
    "                                 point_radius = 3)\n",
    "fig.add_layer(gini_layer)\n",
    "fig.add_layer(heat_layer)\n",
    "fig"
   ]
  },
  {
   "cell_type": "code",
   "execution_count": 27,
   "metadata": {},
   "outputs": [
    {
     "data": {
      "application/vnd.jupyter.widget-view+json": {
       "model_id": "78d4c335412e46f0b149f9389ab57099",
       "version_major": 2,
       "version_minor": 0
      },
      "text/plain": [
       "Figure(layout=FigureLayout(height='420px'))"
      ]
     },
     "metadata": {},
     "output_type": "display_data"
    }
   ],
   "source": [
    "whitevictim_shootings = normalised_shootingsbystate_df[\"White_Victims_%\"].astype(float)\n",
    "fig = gmaps.figure()\n",
    "heat_layer = gmaps.heatmap_layer(locations, weights=whitevictim_shootings, \n",
    "                                 dissipating=False, max_intensity=75,\n",
    "                                 point_radius = 3)\n",
    "fig.add_layer(heat_layer)\n",
    "fig.add_layer(gini_layer)\n",
    "fig"
   ]
  },
  {
   "cell_type": "code",
   "execution_count": 28,
   "metadata": {},
   "outputs": [
    {
     "data": {
      "application/vnd.jupyter.widget-view+json": {
       "model_id": "d51ac2517c8d451fbad3263b57361c77",
       "version_major": 2,
       "version_minor": 0
      },
      "text/plain": [
       "Figure(layout=FigureLayout(height='420px'))"
      ]
     },
     "metadata": {},
     "output_type": "display_data"
    }
   ],
   "source": [
    "hispanicvictim_shootings = normalised_shootingsbystate_df[\"Hispanic_Victims_%\"].astype(float)\n",
    "fig = gmaps.figure()\n",
    "heat_layer = gmaps.heatmap_layer(locations, weights=hispanicvictim_shootings, \n",
    "                                 dissipating=False, max_intensity=75,\n",
    "                                 point_radius = 3)\n",
    "fig.add_layer(heat_layer)\n",
    "fig.add_layer(gini_layer)\n",
    "fig"
   ]
  },
  {
   "cell_type": "code",
   "execution_count": null,
   "metadata": {},
   "outputs": [],
   "source": [
    "shootingsbystate_df = pd.read_csv(\"Resources/shootingdata_bystate.csv\")\n",
    "shootingsbystate_df.head()"
   ]
  },
  {
   "cell_type": "code",
   "execution_count": null,
   "metadata": {},
   "outputs": [],
   "source": [
    "election_shootingbystate = pd.merge(shootingsbystate_df, election, how=\"left\", on=\"State\").fillna(0)\n",
    "election_shootingbystate[\"trump\"] = election_shootingbystate[\"trump\"]*100\n",
    "election_shootingbystate.head()"
   ]
  },
  {
   "cell_type": "code",
   "execution_count": null,
   "metadata": {},
   "outputs": [],
   "source": []
  }
 ],
 "metadata": {
  "kernelspec": {
   "display_name": "Python [conda env:PythonData] *",
   "language": "python",
   "name": "conda-env-PythonData-py"
  },
  "language_info": {
   "codemirror_mode": {
    "name": "ipython",
    "version": 3
   },
   "file_extension": ".py",
   "mimetype": "text/x-python",
   "name": "python",
   "nbconvert_exporter": "python",
   "pygments_lexer": "ipython3",
   "version": "3.6.10"
  }
 },
 "nbformat": 4,
 "nbformat_minor": 4
}
